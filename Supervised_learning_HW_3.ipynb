{
  "nbformat": 4,
  "nbformat_minor": 0,
  "metadata": {
    "kernelspec": {
      "display_name": "Python 3",
      "language": "python",
      "name": "python3"
    },
    "language_info": {
      "codemirror_mode": {
        "name": "ipython",
        "version": 3
      },
      "file_extension": ".py",
      "mimetype": "text/x-python",
      "name": "python",
      "nbconvert_exporter": "python",
      "pygments_lexer": "ipython3",
      "version": "3.6.9"
    },
    "colab": {
      "name": "Supervised_learning_HW_3.ipynb",
      "provenance": []
    }
  },
  "cells": [
    {
      "cell_type": "markdown",
      "metadata": {
        "id": "7Nnc0ejN7YRW"
      },
      "source": [
        "## Валидация моделей классификации\n",
        "\n",
        "### Работу выполнил Токарев С.К. \n",
        "##### Студент группы Т12О-101М-20"
      ]
    },
    {
      "cell_type": "code",
      "metadata": {
        "id": "MPb0HcDNuSU-",
        "colab": {
          "base_uri": "https://localhost:8080/",
          "height": 195
        },
        "outputId": "d5987694-71bc-449f-b66a-365417f07dd2"
      },
      "source": [
        "import pandas as pd\n",
        "import matplotlib.pyplot as plt\n",
        "from mpl_toolkits.mplot3d import Axes3D\n",
        "import numpy as np\n",
        "\n",
        "%matplotlib inline\n",
        "np.set_printoptions(precision=4)\n",
        "\n",
        "df_source = pd.read_csv(\n",
        "    'client_segmentation.csv', \n",
        "    dtype={'call_diff': np.float32, 'call_diff': np.float32, 'traffic_diff': np.float32, 'customes_class': np.uint16}\n",
        ")\n",
        "X = df_source[['call_diff','sms_diff','traffic_diff']].values\n",
        "y = df_source.customes_class.values\n",
        "\n",
        "df_source.head(5)"
      ],
      "execution_count": 3,
      "outputs": [
        {
          "output_type": "execute_result",
          "data": {
            "text/html": [
              "<div>\n",
              "<style scoped>\n",
              "    .dataframe tbody tr th:only-of-type {\n",
              "        vertical-align: middle;\n",
              "    }\n",
              "\n",
              "    .dataframe tbody tr th {\n",
              "        vertical-align: top;\n",
              "    }\n",
              "\n",
              "    .dataframe thead th {\n",
              "        text-align: right;\n",
              "    }\n",
              "</style>\n",
              "<table border=\"1\" class=\"dataframe\">\n",
              "  <thead>\n",
              "    <tr style=\"text-align: right;\">\n",
              "      <th></th>\n",
              "      <th>call_diff</th>\n",
              "      <th>sms_diff</th>\n",
              "      <th>traffic_diff</th>\n",
              "      <th>customes_class</th>\n",
              "    </tr>\n",
              "  </thead>\n",
              "  <tbody>\n",
              "    <tr>\n",
              "      <th>0</th>\n",
              "      <td>-0.666421</td>\n",
              "      <td>0.444911</td>\n",
              "      <td>-0.273538</td>\n",
              "      <td>0</td>\n",
              "    </tr>\n",
              "    <tr>\n",
              "      <th>1</th>\n",
              "      <td>-0.889273</td>\n",
              "      <td>-0.537896</td>\n",
              "      <td>-1.959469</td>\n",
              "      <td>2</td>\n",
              "    </tr>\n",
              "    <tr>\n",
              "      <th>2</th>\n",
              "      <td>-0.841503</td>\n",
              "      <td>0.846665</td>\n",
              "      <td>0.727606</td>\n",
              "      <td>0</td>\n",
              "    </tr>\n",
              "    <tr>\n",
              "      <th>3</th>\n",
              "      <td>1.389749</td>\n",
              "      <td>0.390911</td>\n",
              "      <td>1.789246</td>\n",
              "      <td>1</td>\n",
              "    </tr>\n",
              "    <tr>\n",
              "      <th>4</th>\n",
              "      <td>-1.228211</td>\n",
              "      <td>-1.375899</td>\n",
              "      <td>-1.434209</td>\n",
              "      <td>2</td>\n",
              "    </tr>\n",
              "  </tbody>\n",
              "</table>\n",
              "</div>"
            ],
            "text/plain": [
              "   call_diff  sms_diff  traffic_diff  customes_class\n",
              "0  -0.666421  0.444911     -0.273538               0\n",
              "1  -0.889273 -0.537896     -1.959469               2\n",
              "2  -0.841503  0.846665      0.727606               0\n",
              "3   1.389749  0.390911      1.789246               1\n",
              "4  -1.228211 -1.375899     -1.434209               2"
            ]
          },
          "metadata": {
            "tags": []
          },
          "execution_count": 3
        }
      ]
    },
    {
      "cell_type": "markdown",
      "metadata": {
        "id": "5YHH0qi-uSVG"
      },
      "source": [
        "Найдите лучший классификатор по метрике f1-score"
      ]
    },
    {
      "cell_type": "code",
      "metadata": {
        "id": "alwnylqXuSVJ",
        "colab": {
          "base_uri": "https://localhost:8080/"
        },
        "outputId": "498eaf58-5740-46b0-95c9-5cafafdbbbb9"
      },
      "source": [
        "from sklearn.tree  import DecisionTreeClassifier\n",
        "from sklearn.naive_bayes import GaussianNB\n",
        "from sklearn.neighbors import KNeighborsClassifier\n",
        "from sklearn.linear_model import LogisticRegression\n",
        "from sklearn.ensemble import RandomForestClassifier\n",
        "\n",
        "from sklearn.metrics import f1_score\n",
        "\n",
        "\n",
        "decision_tree = DecisionTreeClassifier()\n",
        "decision_tree.fit(X, y)\n",
        "decision_tree_predicted = ['Decision tree: ', decision_tree.predict(X)]\n",
        "\n",
        "gaussian = GaussianNB()\n",
        "gaussian.fit(X, y)\n",
        "gaussian_predicted = ['Gaussian: ', gaussian.predict(X)]\n",
        "\n",
        "k_neighbours = KNeighborsClassifier()\n",
        "k_neighbours.fit(X, y)\n",
        "k_neighbours_predicted = ['K-neighbours: ', k_neighbours.predict(X)]\n",
        "\n",
        "l_regression = LogisticRegression()\n",
        "l_regression.fit(X, y)\n",
        "l_regression_predicted = ['Linear regression: ', l_regression.predict(X)]\n",
        "\n",
        "r_forest = RandomForestClassifier()\n",
        "r_forest. fit(X, y)\n",
        "r_forest_predicted = ['Random forest: ', r_forest.predict(X)]\n",
        "\n",
        "general_classes = []\n",
        "\n",
        "for c_res in [decision_tree_predicted, gaussian_predicted, k_neighbours_predicted, l_regression_predicted, r_forest_predicted]:\n",
        "    general_classes.append([c_res[0], f1_score(y, c_res[1], average='weighted')])\n",
        "    print(general_classes[-1][0], general_classes[-1][1])\n",
        "\n",
        "print('\\nBest classifiers are:')\n",
        "general_classes.sort(key=lambda x: x[1], reverse=True)\n",
        "for c in general_classes[:2]:\n",
        "  print(c[0], c[1])"
      ],
      "execution_count": 29,
      "outputs": [
        {
          "output_type": "stream",
          "text": [
            "Decision tree:  1.0\n",
            "Gaussian:  0.9498119457062514\n",
            "K-neighbours:  0.979846223428313\n",
            "Linear regression:  0.979846223428313\n",
            "Random forest:  1.0\n",
            "\n",
            "Best classifiers are:\n",
            "Decision tree:  1.0\n",
            "Random forest:  1.0\n"
          ],
          "name": "stdout"
        }
      ]
    },
    {
      "cell_type": "markdown",
      "metadata": {
        "id": "vpG1e8zluSVM"
      },
      "source": [
        "## Валидация моделей линейной регрессии\n",
        "\n",
        "Пользуясь методом .score подберите наилучшее значение степени полинома"
      ]
    },
    {
      "cell_type": "code",
      "metadata": {
        "id": "Mf7BLmX9uSVN",
        "colab": {
          "base_uri": "https://localhost:8080/",
          "height": 279
        },
        "outputId": "048996d6-a36a-4c6b-c68d-f3a69d10544f"
      },
      "source": [
        "import pandas as pd\n",
        "import numpy as np\n",
        "from sklearn.model_selection import train_test_split\n",
        "from sklearn.linear_model import LinearRegression\n",
        "\n",
        "import matplotlib.pyplot as plt\n",
        "%matplotlib inline\n",
        "\n",
        "df = pd.read_csv('content_views_toy_set.csv', encoding='utf8')\n",
        "df.plot.scatter(x='time', y='content_views')\n",
        "plt.show()\n",
        "\n",
        "X = df['time'].values\n",
        "y = df['content_views'].values\n",
        "\n",
        "X_train, X_test, y_train, y_test = train_test_split(X, y, test_size=0.33, random_state=42)\n",
        "reg = LinearRegression().fit(X_train.reshape(-1, 1), y_train)\n"
      ],
      "execution_count": 31,
      "outputs": [
        {
          "output_type": "display_data",
          "data": {
            "image/png": "[encoded data removed]",
            "text/plain": [
              "<Figure size 432x288 with 1 Axes>"
            ]
          },
          "metadata": {
            "tags": [],
            "needs_background": "light"
          }
        }
      ]
    },
    {
      "cell_type": "code",
      "metadata": {
        "id": "CVOhVghLuSVQ",
        "colab": {
          "base_uri": "https://localhost:8080/",
          "height": 295
        },
        "outputId": "545cb6a3-5fe8-462b-b0d5-58dc5cff1ff7"
      },
      "source": [
        "def generate_degrees(source_data: list, degree: int):\n",
        "    \"\"\"Функция, которая принимает на вход одномерный массив, а возвращает n-мерный\n",
        "    Для каждой степени от 1 до  degree возводим x в эту степень\n",
        "    \"\"\"\n",
        "    return np.array([\n",
        "          source_data**n for n in range(1, degree + 1)  \n",
        "    ]).T\n",
        "\n",
        "X_train_5 = generate_degrees(X_train, 5)\n",
        "X_test_5 = generate_degrees(X_test, 5)\n",
        "reg_5 = LinearRegression().fit(X_train_5, y_train)\n",
        "\n",
        "# строим график\n",
        "margin = 0.3\n",
        "support = np.arange(X.min(), X.max(), step=0.1)\n",
        "\n",
        "X_test_support = generate_degrees(support, 5)\n",
        "y_hat = reg_5.predict(X_test_support)\n",
        "\n",
        "plt.plot(support, y_hat, 'b--', alpha=0.5, label='prediction')\n",
        "plt.scatter(X_train, y_train, 40, 'g', 'o', alpha=0.8, label='data')\n",
        "plt.xlim(X.min() - margin, X.max() + margin)\n",
        "plt.ylim(y.min() - margin, y.max() + margin)\n",
        "plt.legend(loc='upper right', prop={'size': 20})\n",
        "plt.title('Fitted linear regression')\n",
        "plt.xlabel('x')\n",
        "plt.ylabel('y')\n",
        "plt.show()"
      ],
      "execution_count": 33,
      "outputs": [
        {
          "output_type": "display_data",
          "data": {
            "image/png": "[encoded data removed]",
            "text/plain": [
              "<Figure size 432x288 with 1 Axes>"
            ]
          },
          "metadata": {
            "tags": [],
            "needs_background": "light"
          }
        }
      ]
    },
    {
      "cell_type": "code",
      "metadata": {
        "id": "cfQDxXITuSVT",
        "colab": {
          "base_uri": "https://localhost:8080/"
        },
        "outputId": "109eb6c7-e48a-471e-fa30-f379f06d209a"
      },
      "source": [
        "res = {}\n",
        "\n",
        "for pwr in range(1, 20):\n",
        "    X_train_pwr = generate_degrees(X_train, pwr)\n",
        "    X_test_pwr = generate_degrees(X_test, pwr)\n",
        "    reg_pwr = LinearRegression().fit(X_train_pwr, y_train)\n",
        "    res[pwr] = reg_pwr.score(X_test_pwr, y_test)\n",
        "\n",
        "res = sorted(res.items(), key=lambda item:item[1], reverse=True)\n",
        "print(f\"Best polynom's power {res[0][0]}, score = {res[0][1]}\")"
      ],
      "execution_count": 36,
      "outputs": [
        {
          "output_type": "stream",
          "text": [
            "Best polynom's power 3, score = 0.9313123641187698\n"
          ],
          "name": "stdout"
        }
      ]
    },
    {
      "cell_type": "code",
      "metadata": {
        "id": "v1MjBom8AxG8"
      },
      "source": [
        ""
      ],
      "execution_count": null,
      "outputs": []
    },
    {
      "cell_type": "code",
      "metadata": {
        "id": "5_ucP9QBAm3y"
      },
      "source": [
        ""
      ],
      "execution_count": null,
      "outputs": []
    }
  ]
}