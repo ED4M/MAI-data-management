{
  "nbformat": 4,
  "nbformat_minor": 0,
  "metadata": {
    "kernelspec": {
      "display_name": "Python 3",
      "language": "python",
      "name": "python3"
    },
    "language_info": {
      "codemirror_mode": {
        "name": "ipython",
        "version": 3
      },
      "file_extension": ".py",
      "mimetype": "text/x-python",
      "name": "python",
      "nbconvert_exporter": "python",
      "pygments_lexer": "ipython3",
      "version": "3.6.9"
    },
    "colab": {
      "name": "ML_tuning_HW_5.ipynb",
      "provenance": [],
      "collapsed_sections": []
    }
  },
  "cells": [
    {
      "cell_type": "markdown",
      "metadata": {
        "id": "-teIOVkESSyo"
      },
      "source": [
        "# Задача на регуляризцию\n",
        "\n",
        "Загрузка данных"
      ]
    },
    {
      "cell_type": "code",
      "metadata": {
        "id": "MYzYrokJSSyu",
        "colab": {
          "base_uri": "https://localhost:8080/"
        },
        "outputId": "13f23665-87e7-42ce-f809-8d6e1a5ec34a"
      },
      "source": [
        "from sklearn.model_selection import train_test_split\n",
        "from sklearn.linear_model import Ridge, Lasso, SGDRegressor\n",
        "from sklearn.metrics import mean_squared_error, r2_score\n",
        "from sklearn.datasets import load_boston\n",
        "\n",
        "from scipy.spatial import distance\n",
        "from matplotlib import pyplot as plt\n",
        "\n",
        "import numpy as np\n",
        "import pandas as pd\n",
        "import string\n",
        "import nltk\n",
        "\n",
        "\n",
        "def generate_degrees(source_data: list, degree: int):\n",
        "    \"\"\"Функция, которая принимает на вход одномерный массив, а возвращает n-мерный\n",
        "    Для каждой степени от 1 до  degree возводим x в эту степень\n",
        "    \"\"\"\n",
        "    return np.array([\n",
        "          source_data**n for n in range(1, degree + 1)  \n",
        "    ]).T\n",
        "\n",
        "data = pd.read_csv('non_linear.csv', sep=',')\n",
        "data.head()\n",
        "\n",
        "degree = 8\n",
        "X = generate_degrees(data['x_train'], degree)\n",
        "y = data.y_train.values\n",
        "X_train, X_valid, y_train, y_valid = train_test_split(X, y, test_size=0.2, random_state=10)\n",
        "model = Ridge(alpha=0).fit(X_train, y_train)\n",
        "y_pred = model.predict(X_valid)\n",
        "y_pred_train = model.predict(X_train)\n",
        "print(\"Качество на валидации: %.3f\" % mean_squared_error(y_valid, y_pred))\n",
        "print(\"Качество на обучении: %.3f\" % mean_squared_error(y_train, y_pred_train))"
      ],
      "execution_count": 41,
      "outputs": [
        {
          "output_type": "stream",
          "text": [
            "Качество на валидации: 0.119\n",
            "Качество на обучении: 0.052\n"
          ],
          "name": "stdout"
        },
        {
          "output_type": "stream",
          "text": [
            "/usr/local/lib/python3.7/dist-packages/sklearn/linear_model/_ridge.py:148: LinAlgWarning: Ill-conditioned matrix (rcond=7.97797e-18): result may not be accurate.\n",
            "  overwrite_a=True).T\n"
          ],
          "name": "stderr"
        }
      ]
    },
    {
      "cell_type": "markdown",
      "metadata": {
        "id": "lcIXKj01SSyw"
      },
      "source": [
        "у класса *Ridge* в конструкторе есть параметр регуляризации обучите регрессию \n",
        "\n",
        "* c параметром $\\alpha=0.01$\n",
        "* степень полинома $n=12$\n",
        "\n",
        "Сравните с моделью при степени $n=12$ *без регуляризации*.\n",
        "\n",
        "Как изменилась ошибка на обучении? Как изменилась ошибка на валидации? Удалось ли победить переобучение? Используйте "
      ]
    },
    {
      "cell_type": "markdown",
      "metadata": {
        "id": "wlOy-iV3UwH3"
      },
      "source": [
        "**С регуляризацией α=0.01, n = 12**"
      ]
    },
    {
      "cell_type": "code",
      "metadata": {
        "id": "8I51eEKqSSyw",
        "colab": {
          "base_uri": "https://localhost:8080/"
        },
        "outputId": "ad1763a3-6a3d-488a-808e-598a2af056f0"
      },
      "source": [
        "degree = 12\n",
        "X = generate_degrees(data['x_train'], degree)\n",
        "y = data.y_train.values\n",
        "X_train, X_valid, y_train, y_valid = train_test_split(X, y, test_size=0.2, random_state=10)\n",
        "model = Ridge(alpha=0.01).fit(X_train, y_train)\n",
        "y_pred = model.predict(X_valid)\n",
        "y_pred_train = model.predict(X_train)\n",
        "print(\"Качество на валидации: %.3f\" % mean_squared_error(y_valid, y_pred))\n",
        "print(\"Качество на обучении: %.3f\" % mean_squared_error(y_train, y_pred_train))"
      ],
      "execution_count": 21,
      "outputs": [
        {
          "output_type": "stream",
          "text": [
            "Качество на валидации: 0.077\n",
            "Качество на обучении: 0.058\n"
          ],
          "name": "stdout"
        },
        {
          "output_type": "stream",
          "text": [
            "/usr/local/lib/python3.7/dist-packages/sklearn/linear_model/_ridge.py:148: LinAlgWarning: Ill-conditioned matrix (rcond=5.80258e-22): result may not be accurate.\n",
            "  overwrite_a=True).T\n"
          ],
          "name": "stderr"
        }
      ]
    },
    {
      "cell_type": "markdown",
      "metadata": {
        "id": "GkEqdVTrUoW2"
      },
      "source": [
        "**Без регуляризации, n = 12**"
      ]
    },
    {
      "cell_type": "code",
      "metadata": {
        "colab": {
          "base_uri": "https://localhost:8080/"
        },
        "id": "LfqyqzD1Ujpe",
        "outputId": "cc20155a-c0be-467c-9b37-be588b53cb2e"
      },
      "source": [
        "degree = 12\n",
        "X = generate_degrees(data['x_train'], degree)\n",
        "y = data.y_train.values\n",
        "X_train, X_valid, y_train, y_valid = train_test_split(X, y, test_size=0.2, random_state=10)\n",
        "model = Ridge().fit(X_train, y_train)\n",
        "y_pred = model.predict(X_valid)\n",
        "y_pred_train = model.predict(X_train)\n",
        "print(\"Качество на валидации: %.3f\" % mean_squared_error(y_valid, y_pred))\n",
        "print(\"Качество на обучении: %.3f\" % mean_squared_error(y_train, y_pred_train))"
      ],
      "execution_count": 22,
      "outputs": [
        {
          "output_type": "stream",
          "text": [
            "Качество на валидации: 0.094\n",
            "Качество на обучении: 0.063\n"
          ],
          "name": "stdout"
        },
        {
          "output_type": "stream",
          "text": [
            "/usr/local/lib/python3.7/dist-packages/sklearn/linear_model/_ridge.py:148: LinAlgWarning: Ill-conditioned matrix (rcond=6.00255e-20): result may not be accurate.\n",
            "  overwrite_a=True).T\n"
          ],
          "name": "stderr"
        }
      ]
    },
    {
      "cell_type": "markdown",
      "metadata": {
        "id": "-lTCoHGoU9Ny"
      },
      "source": [
        "**Сравнивая полученные результаты, видим, что применение коэффициента регуляризации понижает ошибку валидации, то есть удаётся победить переобучение, повышая коэффициент регуляризации.**"
      ]
    },
    {
      "cell_type": "markdown",
      "metadata": {
        "id": "aqeco6zOSSyx"
      },
      "source": [
        "### Домашняя работа: Lasso vs Ridge\n",
        "\n",
        "На данных из файла `data/non_linear.csv`\n",
        "* сгенерируйте данные до степени *degree = 8* включительно\n",
        "* обучите модель `sklearn.linear_model.Lasso` и модель `sklearn.linear_model.Ridge` на полученных данных\n",
        "* используйте коэффициент регуляризации $\\alpha=0.8$ для обеих моделей\n",
        "* постройте два столбчатых графика, на которых отобразите величину коэффициентов в для Ridge регрессии и Lasso регрессии виде столбиков"
      ]
    },
    {
      "cell_type": "markdown",
      "metadata": {
        "id": "_Bm5V6vZSSyx"
      },
      "source": [
        "Пример графиков для 3-й степени (просто для примера, у вас может по-другому выглядеть). Какой можно сделать в вывод по величине коэффициентов?:\n",
        "![coeff_example](https://github.com/aleksandr-dzhumurat/data_management/blob/master/jupyter_notebooks/img/coeff_example.png?raw=1)"
      ]
    },
    {
      "cell_type": "code",
      "metadata": {
        "id": "jutVTcjzSSyx",
        "colab": {
          "base_uri": "https://localhost:8080/",
          "height": 1000
        },
        "outputId": "c9608974-dc80-4b79-edcc-13116c8bc852"
      },
      "source": [
        "import matplotlib.pyplot as plt\n",
        "from sklearn.model_selection import train_test_split\n",
        "from sklearn.linear_model import Ridge, Lasso\n",
        "\n",
        "alpha = 0.8\n",
        "for degree in range(1,9):\n",
        "    X = generate_degrees(data['x_train'], degree)\n",
        "    y = data.y_train.values\n",
        "    X_train, X_valid, y_train, y_valid = train_test_split(X, y, test_size=0.2, random_state=10)\n",
        "    \n",
        "    model_r = Ridge(alpha=alpha).fit(X_train, y_train)\n",
        "    y_pred_r = model_r.predict(X_valid)\n",
        "    y_pred_train_r = model_r.predict(X_train)\n",
        "    w_sklearn_r = np.append([model_r.intercept_], model_r.coef_)\n",
        "    \n",
        "    model_l = Lasso(alpha=alpha).fit(X_train, y_train)\n",
        "    y_pred_l = model_l.predict(X_valid)\n",
        "    y_pred_train_l = model_l.predict(X_train)\n",
        "    w_sklearn_l = np.append([model_l.intercept_], model_l.coef_)\n",
        "\n",
        "    plt.title(f'degree = {degree}')\n",
        "    plt.bar(np.arange(len(w_sklearn_r)),w_sklearn_r, alpha=0.5, label='Ridge')\n",
        "    plt.bar(np.arange(len(w_sklearn_l)),w_sklearn_l, alpha=0.5, label='Lasso')\n",
        "    plt.legend(loc='upper right', prop={'size': 10})\n",
        "    \n",
        "    plt.show()"
      ],
      "execution_count": 23,
      "outputs": [
        {
          "output_type": "display_data",
          "data": {
            "image/png": "[encoded data removed]",
            "text/plain": [
              "<Figure size 432x288 with 1 Axes>"
            ]
          },
          "metadata": {
            "tags": [],
            "needs_background": "light"
          }
        },
        {
          "output_type": "display_data",
          "data": {
            "image/png": "[encoded data removed]",
            "text/plain": [
              "<Figure size 432x288 with 1 Axes>"
            ]
          },
          "metadata": {
            "tags": [],
            "needs_background": "light"
          }
        },
        {
          "output_type": "display_data",
          "data": {
            "image/png": "[encoded data removed]",
            "text/plain": [
              "<Figure size 432x288 with 1 Axes>"
            ]
          },
          "metadata": {
            "tags": [],
            "needs_background": "light"
          }
        },
        {
          "output_type": "display_data",
          "data": {
            "image/png": "[encoded data removed]",
            "text/plain": [
              "<Figure size 432x288 with 1 Axes>"
            ]
          },
          "metadata": {
            "tags": [],
            "needs_background": "light"
          }
        },
        {
          "output_type": "stream",
          "text": [
            "/usr/local/lib/python3.7/dist-packages/sklearn/linear_model/_coordinate_descent.py:476: ConvergenceWarning: Objective did not converge. You might want to increase the number of iterations. Duality gap: 0.9365323182554341, tolerance: 0.002448155578496404\n",
            "  positive)\n"
          ],
          "name": "stderr"
        },
        {
          "output_type": "display_data",
          "data": {
            "image/png": "[encoded data removed]",
            "text/plain": [
              "<Figure size 432x288 with 1 Axes>"
            ]
          },
          "metadata": {
            "tags": [],
            "needs_background": "light"
          }
        },
        {
          "output_type": "stream",
          "text": [
            "/usr/local/lib/python3.7/dist-packages/sklearn/linear_model/_coordinate_descent.py:476: ConvergenceWarning: Objective did not converge. You might want to increase the number of iterations. Duality gap: 0.6197582700045894, tolerance: 0.002448155578496404\n",
            "  positive)\n"
          ],
          "name": "stderr"
        },
        {
          "output_type": "display_data",
          "data": {
            "image/png": "[encoded data removed]",
            "text/plain": [
              "<Figure size 432x288 with 1 Axes>"
            ]
          },
          "metadata": {
            "tags": [],
            "needs_background": "light"
          }
        },
        {
          "output_type": "stream",
          "text": [
            "/usr/local/lib/python3.7/dist-packages/sklearn/linear_model/_coordinate_descent.py:476: ConvergenceWarning: Objective did not converge. You might want to increase the number of iterations. Duality gap: 3.359423025060299, tolerance: 0.002448155578496404\n",
            "  positive)\n"
          ],
          "name": "stderr"
        },
        {
          "output_type": "display_data",
          "data": {
            "image/png": "[encoded data removed]",
            "text/plain": [
              "<Figure size 432x288 with 1 Axes>"
            ]
          },
          "metadata": {
            "tags": [],
            "needs_background": "light"
          }
        },
        {
          "output_type": "stream",
          "text": [
            "/usr/local/lib/python3.7/dist-packages/sklearn/linear_model/_coordinate_descent.py:476: ConvergenceWarning: Objective did not converge. You might want to increase the number of iterations. Duality gap: 3.7134369621139607, tolerance: 0.002448155578496404\n",
            "  positive)\n"
          ],
          "name": "stderr"
        },
        {
          "output_type": "display_data",
          "data": {
            "image/png": "[encoded data removed]",
            "text/plain": [
              "<Figure size 432x288 with 1 Axes>"
            ]
          },
          "metadata": {
            "tags": [],
            "needs_background": "light"
          }
        }
      ]
    },
    {
      "cell_type": "markdown",
      "metadata": {
        "id": "SBbvJcLESSyx"
      },
      "source": [
        "# Домашнее задание: пишем Ridge регрессию.\n",
        "\n",
        "Мы использовали реализацию Ridge регрессию из библиотеки sklearn. Для того, чтобы  прокачать навыки программирования и освежить в памяти, как перемножать матрицы в numpy, напишите код для вычисления коэффициентов полиномиальной регрессии (для степени *degree=8*) с регуляризацией по формуле\n",
        "$$\n",
        "\\overline{w} = \\left(X^TX + \\lambda E\\right)^{-1}X^T\\overline{y}\n",
        "$$\n",
        "\n",
        "Для примера можно ориентироваться на то, как была реализована аналитическая формула для линейной регрессии в модуле \"Линейная регрессия. Часть I\"\n",
        "\n",
        "Единичную матрицу $E$ можно получить с помощью функции https://docs.scipy.org/doc/numpy/reference/generated/numpy.eye.html . Размерность матрицы $k\\times k$ (по количеству коэффициентов линейной регрессии). Напоминаю, что количество коэффициентов регрессии совпадает с количеством фичей регрессии, в задании будет $k=8$, т.к. генерим признаки для полинома восьмой степени."
      ]
    },
    {
      "cell_type": "code",
      "metadata": {
        "id": "J-XEHMO3SSyy",
        "colab": {
          "base_uri": "https://localhost:8080/"
        },
        "outputId": "6a26c68c-39f9-49fa-d452-b36dbb383c12"
      },
      "source": [
        "from numpy.linalg import inv, norm\n",
        "import numpy as np\n",
        "from sklearn.linear_model import LinearRegression\n",
        "from scipy.spatial import distance\n",
        "\n",
        "\n",
        "X = generate_degrees(data['x_train'], degree)\n",
        "deg = 8\n",
        "E = np.eye(deg)\n",
        "\n",
        "X_train, X_valid, y_train, y_valid = train_test_split(X, y, test_size=0.2, random_state=10)\n",
        "\n",
        "X = X_train\n",
        "y = y_train\n",
        "\n",
        "w_analytic = inv(X.T.dot(X) + deg*E).dot(X.T).dot(y)\n",
        "\n",
        "print(f'Коэффициенты полиномиальной регрессии {w_analytic}')\n"
      ],
      "execution_count": 24,
      "outputs": [
        {
          "output_type": "stream",
          "text": [
            "Коэффициенты полиномиальной регрессии [ 0.51152727  0.40716153  0.22421288 -0.04867427 -0.17822689  0.08659551\n",
            " -0.01446891  0.00083008]\n"
          ],
          "name": "stdout"
        }
      ]
    },
    {
      "cell_type": "markdown",
      "metadata": {
        "id": "Spspd4QeSSyy"
      },
      "source": [
        "# Домашнее задание: подбираем шаг градиентного спуска \n",
        "\n",
        "Очевидно, что чем больше шаг градиентного спуска (параметр *eta0* класса *SGDRegressor*), тем быстрее мы придём к оптимальным значениям. Используя под выше, поиграйтесь с параметром *eta0* и добейтесь , чтобы градиентный спуск закончился быстрее, чем за 200 шагов.\n",
        "\n",
        "Сколько шагов у вас получилось? Какое качество *RMSE* у Вашего решения? Визуализируйте функцию потерь"
      ]
    },
    {
      "cell_type": "code",
      "metadata": {
        "id": "763BRo6tSSyz",
        "colab": {
          "base_uri": "https://localhost:8080/",
          "height": 195
        },
        "outputId": "f0f9c0b2-dad4-4540-ee35-69f49d8b5b66"
      },
      "source": [
        "data = pd.read_csv('non_linear.csv', sep=',')\n",
        "data = data[(data.x_train > 1) & (data.x_train < 5)].copy()\n",
        "\n",
        "X = data['x_train'].values.reshape(-1, 1) # превращаем X из простого массива в вектор-столбец\n",
        "y = data['y_train'].values\n",
        "\n",
        "# разбиваем на трейн и валидацию\n",
        "X_train, X_valid, y_train, y_valid = train_test_split(X, y, test_size=0.2, random_state=10)\n",
        "\n",
        "data.head()"
      ],
      "execution_count": 25,
      "outputs": [
        {
          "output_type": "execute_result",
          "data": {
            "text/html": [
              "<div>\n",
              "<style scoped>\n",
              "    .dataframe tbody tr th:only-of-type {\n",
              "        vertical-align: middle;\n",
              "    }\n",
              "\n",
              "    .dataframe tbody tr th {\n",
              "        vertical-align: top;\n",
              "    }\n",
              "\n",
              "    .dataframe thead th {\n",
              "        text-align: right;\n",
              "    }\n",
              "</style>\n",
              "<table border=\"1\" class=\"dataframe\">\n",
              "  <thead>\n",
              "    <tr style=\"text-align: right;\">\n",
              "      <th></th>\n",
              "      <th>x_train</th>\n",
              "      <th>y_train</th>\n",
              "    </tr>\n",
              "  </thead>\n",
              "  <tbody>\n",
              "    <tr>\n",
              "      <th>5</th>\n",
              "      <td>1.182421</td>\n",
              "      <td>1.860341</td>\n",
              "    </tr>\n",
              "    <tr>\n",
              "      <th>6</th>\n",
              "      <td>1.251605</td>\n",
              "      <td>1.878928</td>\n",
              "    </tr>\n",
              "    <tr>\n",
              "      <th>7</th>\n",
              "      <td>1.270474</td>\n",
              "      <td>2.430015</td>\n",
              "    </tr>\n",
              "    <tr>\n",
              "      <th>8</th>\n",
              "      <td>1.402553</td>\n",
              "      <td>2.327856</td>\n",
              "    </tr>\n",
              "    <tr>\n",
              "      <th>9</th>\n",
              "      <td>1.427711</td>\n",
              "      <td>2.203649</td>\n",
              "    </tr>\n",
              "  </tbody>\n",
              "</table>\n",
              "</div>"
            ],
            "text/plain": [
              "    x_train   y_train\n",
              "5  1.182421  1.860341\n",
              "6  1.251605  1.878928\n",
              "7  1.270474  2.430015\n",
              "8  1.402553  2.327856\n",
              "9  1.427711  2.203649"
            ]
          },
          "metadata": {
            "tags": []
          },
          "execution_count": 25
        }
      ]
    },
    {
      "cell_type": "code",
      "metadata": {
        "id": "tvCnCG3j35dK"
      },
      "source": [
        "def initialize_sgd(X_train, \n",
        "                   y_train, \n",
        "                   X_valid,\n",
        "                   y_valid,\n",
        "                   rand_state:int, \n",
        "                   eps:float, \n",
        "                   eta:float\n",
        "                  ):\n",
        "    # можно установить None для эксперимента\n",
        "    rand_state = rand_state\n",
        "            \n",
        "    # инициализация регрессора\n",
        "    sgd_regressor = SGDRegressor(\n",
        "        learning_rate='constant',\n",
        "        eta0=eta,\n",
        "        fit_intercept=True,\n",
        "        random_state=rand_state\n",
        "    )\n",
        "\n",
        "    # инициализация весов случайным образом\n",
        "    w_current = np.random.random(2)\n",
        "    epsilon = eps\n",
        "\n",
        "    # изменения весов и ошибка на валидации\n",
        "    weight_evolution, rmse_evolution = [], []\n",
        "\n",
        "    for step in range(800):\n",
        "        # шаг градиентного спуска\n",
        "        sgd_regressor = sgd_regressor.partial_fit(X_train, y_train)\n",
        "        # отслеживаем изменения весов\n",
        "        weight_evolution.append(\n",
        "            distance.euclidean(w_current, sgd_regressor.coef_)\n",
        "        )\n",
        "        # проверяем критерий остановки\n",
        "        if weight_evolution[-1] < epsilon:\n",
        "            print(\"Итерации остановлены на шаге %d\" % step)\n",
        "            break\n",
        "            \n",
        "        rmse_evolution.append(\n",
        "            mean_squared_error(y_valid, sgd_regressor.predict(X_valid))\n",
        "        )\n",
        "        # обновление весов регрессии\n",
        "        w_current = sgd_regressor.coef_.copy()\n",
        "    \n",
        "    return sgd_regressor, rmse_evolution, step"
      ],
      "execution_count": 26,
      "outputs": []
    },
    {
      "cell_type": "code",
      "metadata": {
        "colab": {
          "base_uri": "https://localhost:8080/"
        },
        "id": "MnA2HG-A5xDQ",
        "outputId": "30bfe050-1816-4aaf-e087-e09043998072"
      },
      "source": [
        "etas = np.linspace(0.01, 0.06, num=10)\n",
        "res = {}\n",
        "\n",
        "for eta in etas:\n",
        "    sgd_regressor, rmse_evolution, step = initialize_sgd(\n",
        "        X_train, y_train, X_valid, y_valid, \n",
        "        rand_state=42, eps=0.0001, eta=eta\n",
        "    )\n",
        "    res[eta] = [sgd_regressor, rmse_evolution, step]\n",
        "    \n",
        "res_f = min(res.items(), key=lambda item:item[1][-1])\n",
        "eta, (sgd_regressor, rmse_evolution, step) = res_f\n",
        "\n",
        "print('\\n',f\"Наименьший шаг: {step} с eta {eta:.3f}\")"
      ],
      "execution_count": 27,
      "outputs": [
        {
          "output_type": "stream",
          "text": [
            "Итерации остановлены на шаге 191\n",
            "Итерации остановлены на шаге 132\n",
            "Итерации остановлены на шаге 102\n",
            "Итерации остановлены на шаге 84\n",
            "Итерации остановлены на шаге 72\n",
            "Итерации остановлены на шаге 64\n",
            "Итерации остановлены на шаге 58\n",
            "Итерации остановлены на шаге 53\n",
            "Итерации остановлены на шаге 49\n",
            "Итерации остановлены на шаге 46\n",
            "\n",
            " Наименьший шаг: 46 с eta 0.060\n"
          ],
          "name": "stdout"
        }
      ]
    },
    {
      "cell_type": "code",
      "metadata": {
        "colab": {
          "base_uri": "https://localhost:8080/",
          "height": 282
        },
        "id": "5xeXyay0CKQ4",
        "outputId": "9146a3ce-41fa-4267-e25e-8c9161209924"
      },
      "source": [
        "plt.plot(range(step), rmse_evolution, label='Функция потерь')\n",
        "plt.legend()"
      ],
      "execution_count": 28,
      "outputs": [
        {
          "output_type": "execute_result",
          "data": {
            "text/plain": [
              "<matplotlib.legend.Legend at 0x7ff26d239690>"
            ]
          },
          "metadata": {
            "tags": []
          },
          "execution_count": 28
        },
        {
          "output_type": "display_data",
          "data": {
            "image/png": "[encoded data removed]",
            "text/plain": [
              "<Figure size 432x288 with 1 Axes>"
            ]
          },
          "metadata": {
            "tags": [],
            "needs_background": "light"
          }
        }
      ]
    },
    {
      "cell_type": "code",
      "metadata": {
        "colab": {
          "base_uri": "https://localhost:8080/",
          "height": 265
        },
        "id": "AUEAggviCOz3",
        "outputId": "0ea45685-1d53-4ede-e703-f04aa36bde4b"
      },
      "source": [
        "x_linspace = np.linspace(data['x_train'].min(), data['x_train'].max(), num=100)\n",
        "\n",
        "y_linspace= sgd_regressor.predict(x_linspace.reshape(-1,1))\n",
        "\n",
        "plt.plot(x_linspace, y_linspace)\n",
        "plt.scatter(data.x_train, data.y_train, 40, 'g', 'o', alpha=0.8, label='data')\n",
        "\n",
        "plt.show()"
      ],
      "execution_count": 29,
      "outputs": [
        {
          "output_type": "display_data",
          "data": {
            "image/png": "[encoded data removed]",
            "text/plain": [
              "<Figure size 432x288 with 1 Axes>"
            ]
          },
          "metadata": {
            "tags": [],
            "needs_background": "light"
          }
        }
      ]
    },
    {
      "cell_type": "markdown",
      "metadata": {
        "id": "EViLIMc-SSyz"
      },
      "source": [
        "# Домашнее задание: SGD на многомерных данных\n",
        "\n",
        "Примените градиентный спуск к задаче прогнозирования цен на недвижимость в Бостоне. Какого качества на валидации удалось достичь по r2-score? Сколько итераций  понадобилось?"
      ]
    },
    {
      "cell_type": "code",
      "metadata": {
        "id": "mx3Igz_USSyz",
        "colab": {
          "base_uri": "https://localhost:8080/"
        },
        "outputId": "79e2f832-7e2a-4ba2-e8ba-b70f12953923"
      },
      "source": [
        "from sklearn.datasets import load_boston\n",
        "boston_dataset = load_boston()\n",
        "\n",
        "X = boston_dataset.data\n",
        "y = boston_dataset.target\n",
        "X_train, X_test, y_train, y_test = train_test_split(X, y, test_size=0.2, random_state=10)\n",
        "\n",
        "X_train.shape, y_train.shape"
      ],
      "execution_count": 30,
      "outputs": [
        {
          "output_type": "execute_result",
          "data": {
            "text/plain": [
              "((404, 13), (404,))"
            ]
          },
          "metadata": {
            "tags": []
          },
          "execution_count": 30
        }
      ]
    },
    {
      "cell_type": "code",
      "metadata": {
        "colab": {
          "base_uri": "https://localhost:8080/"
        },
        "id": "LG4t7wJ_Dkb5",
        "outputId": "58614820-881a-4943-928f-6d04d2c056e5"
      },
      "source": [
        "reg = SGDRegressor(random_state=42).fit(X_train, y_train)\n",
        "reg.n_iter_, r2_score(reg.predict(X_test), y_test)"
      ],
      "execution_count": 32,
      "outputs": [
        {
          "output_type": "execute_result",
          "data": {
            "text/plain": [
              "(75, -38.44889329616654)"
            ]
          },
          "metadata": {
            "tags": []
          },
          "execution_count": 32
        }
      ]
    },
    {
      "cell_type": "markdown",
      "metadata": {
        "id": "M2FUdUrtSSyz"
      },
      "source": [
        "# Домашняя работа: добавляем регуляризацию в SGD\n",
        "\n",
        "В реализацию функции `gradient` добавьте параметр $\\lambda$, чтобы получить регуляризованный градиентный спуск\n",
        "\n",
        "Формула поменяется следующим образом:\n",
        "$$\n",
        "\\left\\{\n",
        "\\begin{array}{cc}\n",
        "\\frac{\\partial L}{\\partial w_0} = \\frac{2}{n}\\cdot(-1)\\cdot \\sum_{i=1}^{n} 1\\cdot \\left(y_i - \\sum_{j=1}^{m}w_jx_j^i + 2\\cdot 1\\right)&\\\\\n",
        "\\frac{\\partial L}{\\partial w_k} = \\frac{2}{n}\\cdot(-1)\\cdot \\sum_{i=1}^{n} x_k^i \\cdot\\left(y_i - \\sum_{j=1}^{m}w_jx_j^i + 2x_k\\right)& k\\neq 0 \\\\\n",
        "\\end{array}\n",
        "\\right.\n",
        "$$"
      ]
    },
    {
      "cell_type": "markdown",
      "metadata": {
        "id": "qKNuccncSSy0"
      },
      "source": [
        "В этом модуле мы узнали, как  обучать линейную регрессию, не \"упираясь\" в аппаратные ресурсы: использовать градиентный спуск.\n",
        "Мы узнали, как детектировать переобучение модели и закрепили свои знания на примере полиномиальной регрессии и выяснили, как увеличить качество решения с помощью механизма регуляризации. Познакомились с двумя видами регуляризации -  Ridge и Lasso."
      ]
    },
    {
      "cell_type": "markdown",
      "metadata": {
        "id": "Jpuooty3SSy0"
      },
      "source": [
        "Загружаем исходные данные"
      ]
    },
    {
      "cell_type": "code",
      "metadata": {
        "id": "BUS23gVJSSy0",
        "colab": {
          "base_uri": "https://localhost:8080/",
          "height": 195
        },
        "outputId": "6cd8f64e-7f76-4736-a6f0-45850e9bac0b"
      },
      "source": [
        "import numpy as np\n",
        "import pandas as pd\n",
        "\n",
        "data = pd.read_csv('non_linear.csv', sep=',')\n",
        "data = data[(data.x_train > 1) & (data.x_train < 5)].copy()\n",
        "data.head()"
      ],
      "execution_count": 34,
      "outputs": [
        {
          "output_type": "execute_result",
          "data": {
            "text/html": [
              "<div>\n",
              "<style scoped>\n",
              "    .dataframe tbody tr th:only-of-type {\n",
              "        vertical-align: middle;\n",
              "    }\n",
              "\n",
              "    .dataframe tbody tr th {\n",
              "        vertical-align: top;\n",
              "    }\n",
              "\n",
              "    .dataframe thead th {\n",
              "        text-align: right;\n",
              "    }\n",
              "</style>\n",
              "<table border=\"1\" class=\"dataframe\">\n",
              "  <thead>\n",
              "    <tr style=\"text-align: right;\">\n",
              "      <th></th>\n",
              "      <th>x_train</th>\n",
              "      <th>y_train</th>\n",
              "    </tr>\n",
              "  </thead>\n",
              "  <tbody>\n",
              "    <tr>\n",
              "      <th>5</th>\n",
              "      <td>1.182421</td>\n",
              "      <td>1.860341</td>\n",
              "    </tr>\n",
              "    <tr>\n",
              "      <th>6</th>\n",
              "      <td>1.251605</td>\n",
              "      <td>1.878928</td>\n",
              "    </tr>\n",
              "    <tr>\n",
              "      <th>7</th>\n",
              "      <td>1.270474</td>\n",
              "      <td>2.430015</td>\n",
              "    </tr>\n",
              "    <tr>\n",
              "      <th>8</th>\n",
              "      <td>1.402553</td>\n",
              "      <td>2.327856</td>\n",
              "    </tr>\n",
              "    <tr>\n",
              "      <th>9</th>\n",
              "      <td>1.427711</td>\n",
              "      <td>2.203649</td>\n",
              "    </tr>\n",
              "  </tbody>\n",
              "</table>\n",
              "</div>"
            ],
            "text/plain": [
              "    x_train   y_train\n",
              "5  1.182421  1.860341\n",
              "6  1.251605  1.878928\n",
              "7  1.270474  2.430015\n",
              "8  1.402553  2.327856\n",
              "9  1.427711  2.203649"
            ]
          },
          "metadata": {
            "tags": []
          },
          "execution_count": 34
        }
      ]
    },
    {
      "cell_type": "markdown",
      "metadata": {
        "id": "I5DWyVy1SSy1"
      },
      "source": [
        "Код для SGD"
      ]
    },
    {
      "cell_type": "code",
      "metadata": {
        "id": "oqTvdhhCSSy1",
        "colab": {
          "base_uri": "https://localhost:8080/"
        },
        "outputId": "ef0fcd47-bc63-4f93-f5e6-95e24f8b6123"
      },
      "source": [
        "from scipy.spatial import distance\n",
        "import numpy as np\n",
        "import matplotlib.pyplot as plt\n",
        "%matplotlib inline\n",
        "\n",
        "def gradient(X, y, w, alpha=0) -> np.array:\n",
        "    # количество обучающих примеров в выборке\n",
        "    n = X.shape[0]\n",
        "    # считаем прогноз\n",
        "    y_hat = X.dot(w.T)\n",
        "    # вычисляем ошибку прогноза\n",
        "    error = y - y_hat\n",
        "    # дальше pointwise перемножение - умножаем каждую из координат на ошибку\n",
        "    pointwise_errors = np.multiply(X, error) + X\n",
        "    # print(pointwise_errors.shape, X.shape, error.shape)\n",
        "    grad = pointwise_errors.sum(axis=0)*(-1.0)*2.0 / n\n",
        "    return grad, error\n",
        "\n",
        "def eval_w_next(X, y, eta, w_current):\n",
        "    # вычисляем градиент\n",
        "    grad, error = gradient(X, y, w_current)\n",
        "    # делаем шаг градиентного спуска\n",
        "    w_next = w_current - eta*grad\n",
        "    # проверяем условие сходимости\n",
        "    weight_evolution = distance.euclidean(w_current, w_next)\n",
        "    return (w_next, weight_evolution, grad)\n",
        "\n",
        "def gradient_descent(X: np.array, y: np.array, eta=0.01, epsilon=0.001) -> np.array:\n",
        "    m = X.shape[1] # количество фичей\n",
        "    # инициализируем рандомом веса\n",
        "    w = np.random.random(m).reshape(1, -1)\n",
        "    w_next, weight_evolution, grad = eval_w_next(X, y, eta, w)\n",
        "    step = 0\n",
        "    # повторяем до сходимости вектора весов\n",
        "    while weight_evolution > epsilon:\n",
        "        w = w_next\n",
        "        w_next, weight_evolution, grad = eval_w_next(X, y, eta, w)\n",
        "        step += 1\n",
        "        if step % 100 ==0:\n",
        "            print(\"step %s |w-w_next|=%.5f, grad=%s\" % (step, weight_evolution, grad))\n",
        "    return w\n",
        "\n",
        "# трансформируем плоский массив X в вектор-столбец\n",
        "X = data['x_train'].values.reshape(-1, 1)\n",
        "n = X.shape[0]\n",
        "# добавляем тривиальный признак w_0, столбец из единиц. См. прошлый урок, почему так\n",
        "X = np.hstack([\n",
        "    np.ones(n).reshape(-1,1),\n",
        "    X\n",
        "])\n",
        "w = gradient_descent(X, data['y_train'].values.reshape(-1, 1), eta=0.008)"
      ],
      "execution_count": 35,
      "outputs": [
        {
          "output_type": "stream",
          "text": [
            "step 100 |w-w_next|=0.00578, grad=[-0.69363309  0.20037682]\n",
            "step 200 |w-w_next|=0.00475, grad=[-0.57080857  0.16489524]\n",
            "step 300 |w-w_next|=0.00391, grad=[-0.4697331   0.13569655]\n",
            "step 400 |w-w_next|=0.00322, grad=[-0.38655549  0.11166819]\n",
            "step 500 |w-w_next|=0.00265, grad=[-0.31810649  0.09189464]\n",
            "step 600 |w-w_next|=0.00218, grad=[-0.26177804  0.07562247]\n",
            "step 700 |w-w_next|=0.00179, grad=[-0.2154239   0.06223168]\n",
            "step 800 |w-w_next|=0.00148, grad=[-0.17727789  0.05121206]\n",
            "step 900 |w-w_next|=0.00121, grad=[-0.14588655  0.04214372]\n",
            "step 1000 |w-w_next|=0.00100, grad=[-0.12005381  0.03468116]\n"
          ],
          "name": "stdout"
        }
      ]
    },
    {
      "cell_type": "markdown",
      "metadata": {
        "id": "dvvqwnpRSSy2"
      },
      "source": [
        "# Домашнее задание: извлечение признаков из текста\n",
        "\n",
        "Реализуем пайплайн в виде функции, при помощи которой обработаем все текстовые описания. Для каждого описания\n",
        "* проводим токенизацию\n",
        "* удаляем пунктуацию\n",
        "* приводим к нижнему регистру\n",
        "* удаляем стоп-слова\n",
        "\n",
        "\n",
        "Примените процедуру токенизации к файлу brand_tweets_valid.csv\n",
        "\n",
        "Сколько уникальных токенов получилось?"
      ]
    },
    {
      "cell_type": "code",
      "metadata": {
        "colab": {
          "base_uri": "https://localhost:8080/",
          "height": 212
        },
        "id": "ilM60SJbE56L",
        "outputId": "233afa80-e625-46af-ea12-6adfcf2eec43"
      },
      "source": [
        "df = pd.read_csv('brand_tweets.csv', sep=',', encoding='utf8')\n",
        "# удаляем строки, в которых отсутствует текст твита\n",
        "df.drop(df[df.tweet_text.isnull()].index, inplace=True)\n",
        "print(df.shape)\n",
        "\n",
        "df.head()"
      ],
      "execution_count": 42,
      "outputs": [
        {
          "output_type": "stream",
          "text": [
            "(3904, 3)\n"
          ],
          "name": "stdout"
        },
        {
          "output_type": "execute_result",
          "data": {
            "text/html": [
              "<div>\n",
              "<style scoped>\n",
              "    .dataframe tbody tr th:only-of-type {\n",
              "        vertical-align: middle;\n",
              "    }\n",
              "\n",
              "    .dataframe tbody tr th {\n",
              "        vertical-align: top;\n",
              "    }\n",
              "\n",
              "    .dataframe thead th {\n",
              "        text-align: right;\n",
              "    }\n",
              "</style>\n",
              "<table border=\"1\" class=\"dataframe\">\n",
              "  <thead>\n",
              "    <tr style=\"text-align: right;\">\n",
              "      <th></th>\n",
              "      <th>tweet_text</th>\n",
              "      <th>emotion_in_tweet_is_directed_at</th>\n",
              "      <th>is_there_an_emotion_directed_at_a_brand_or_product</th>\n",
              "    </tr>\n",
              "  </thead>\n",
              "  <tbody>\n",
              "    <tr>\n",
              "      <th>0</th>\n",
              "      <td>.@wesley83 I have a 3G iPhone. After 3 hrs twe...</td>\n",
              "      <td>iPhone</td>\n",
              "      <td>Negative emotion</td>\n",
              "    </tr>\n",
              "    <tr>\n",
              "      <th>1</th>\n",
              "      <td>@jessedee Know about @fludapp ? Awesome iPad/i...</td>\n",
              "      <td>iPad or iPhone App</td>\n",
              "      <td>Positive emotion</td>\n",
              "    </tr>\n",
              "    <tr>\n",
              "      <th>2</th>\n",
              "      <td>@swonderlin Can not wait for #iPad 2 also. The...</td>\n",
              "      <td>iPad</td>\n",
              "      <td>Positive emotion</td>\n",
              "    </tr>\n",
              "    <tr>\n",
              "      <th>3</th>\n",
              "      <td>@sxsw I hope this year's festival isn't as cra...</td>\n",
              "      <td>iPad or iPhone App</td>\n",
              "      <td>Negative emotion</td>\n",
              "    </tr>\n",
              "    <tr>\n",
              "      <th>4</th>\n",
              "      <td>@sxtxstate great stuff on Fri #SXSW: Marissa M...</td>\n",
              "      <td>Google</td>\n",
              "      <td>Positive emotion</td>\n",
              "    </tr>\n",
              "  </tbody>\n",
              "</table>\n",
              "</div>"
            ],
            "text/plain": [
              "                                          tweet_text  ... is_there_an_emotion_directed_at_a_brand_or_product\n",
              "0  .@wesley83 I have a 3G iPhone. After 3 hrs twe...  ...                                   Negative emotion\n",
              "1  @jessedee Know about @fludapp ? Awesome iPad/i...  ...                                   Positive emotion\n",
              "2  @swonderlin Can not wait for #iPad 2 also. The...  ...                                   Positive emotion\n",
              "3  @sxsw I hope this year's festival isn't as cra...  ...                                   Negative emotion\n",
              "4  @sxtxstate great stuff on Fri #SXSW: Marissa M...  ...                                   Positive emotion\n",
              "\n",
              "[5 rows x 3 columns]"
            ]
          },
          "metadata": {
            "tags": []
          },
          "execution_count": 42
        }
      ]
    },
    {
      "cell_type": "code",
      "metadata": {
        "id": "SAXJQ6fuIuPR"
      },
      "source": [
        "# Disable warnings\n",
        "def warn(*args, **kwargs):\n",
        "    pass\n",
        "import warnings\n",
        "warnings.warn = warn"
      ],
      "execution_count": 50,
      "outputs": []
    },
    {
      "cell_type": "code",
      "metadata": {
        "id": "wT15rlPYSSy2",
        "colab": {
          "base_uri": "https://localhost:8080/"
        },
        "outputId": "fa83112f-4662-414f-e063-c54ee36f8f62"
      },
      "source": [
        "import nltk\n",
        "import string\n",
        "from nltk.corpus import stopwords\n",
        "from collections import Counter\n",
        "\n",
        "nltk.download('stopwords')\n",
        "nltk.download('punkt', download_dir='.')\n",
        "\n",
        "en_stops = set(stopwords.words('english'))\n",
        "\n",
        "string.punctuation\n",
        "\n",
        "def tokenize_text(raw_text: str):\n",
        "    \"\"\"Функция для токенизации текста\n",
        "    \n",
        "    :param raw_text: исходная текстовая строка\n",
        "    \"\"\"\n",
        "    filtered_tokens = [\n",
        "    ]\n",
        "    # -- ВАШ КОД ТУТ --\n",
        "    tokenized_text = nltk.word_tokenize(raw_text.lower())\n",
        "    \n",
        "    for token in tokenized_text:\n",
        "        if token not in string.punctuation and token not in en_stops:\n",
        "            filtered_tokens.append(token)\n",
        "    # -----------------\n",
        "    return filtered_tokens\n",
        "\n",
        "# применяем функцию в датафрейму с помощью метода .apply()\n",
        "tokenized_tweets= df.tweet_text.apply(tokenize_text)\n",
        "\n",
        "# добавляем новую колонку в исходный датафрейм\n",
        "df = df.assign(\n",
        "    tokenized=tokenized_tweets\n",
        ")\n",
        "\n",
        "df.tokenized.head()"
      ],
      "execution_count": 54,
      "outputs": [
        {
          "output_type": "stream",
          "text": [
            "[nltk_data] Downloading package stopwords to /root/nltk_data...\n",
            "[nltk_data]   Package stopwords is already up-to-date!\n",
            "[nltk_data] Downloading package punkt to ....\n",
            "[nltk_data]   Unzipping tokenizers/punkt.zip.\n"
          ],
          "name": "stdout"
        },
        {
          "output_type": "execute_result",
          "data": {
            "text/plain": [
              "0    [wesley83, 3g, iphone, 3, hrs, tweeting, rise_...\n",
              "1    [jessedee, know, fludapp, awesome, ipad/iphone...\n",
              "2        [swonderlin, wait, ipad, 2, also, sale, sxsw]\n",
              "3    [sxsw, hope, year, 's, festival, n't, crashy, ...\n",
              "4    [sxtxstate, great, stuff, fri, sxsw, marissa, ...\n",
              "Name: tokenized, dtype: object"
            ]
          },
          "metadata": {
            "tags": []
          },
          "execution_count": 54
        }
      ]
    },
    {
      "cell_type": "markdown",
      "metadata": {
        "id": "2yAmeAfANLOP"
      },
      "source": [
        "**Количество уникальных токенов**"
      ]
    },
    {
      "cell_type": "code",
      "metadata": {
        "colab": {
          "base_uri": "https://localhost:8080/"
        },
        "id": "6LjdDWakNOpq",
        "outputId": "e3e5f4ba-b8cf-4f00-d141-ac3b9cd6454c"
      },
      "source": [
        "unique_tokens = []\n",
        "\n",
        "for _list in df.tokenized.tolist():\n",
        "    for word in _list: \n",
        "        if word not in unique_tokens:\n",
        "            unique_tokens.append(word)\n",
        "print(len(unique_tokens))"
      ],
      "execution_count": 55,
      "outputs": [
        {
          "output_type": "stream",
          "text": [
            "7311\n"
          ],
          "name": "stdout"
        }
      ]
    },
    {
      "cell_type": "markdown",
      "metadata": {
        "id": "3mrbt5bvSSy2"
      },
      "source": [
        "# Домашнее задание: поиск дубликатов в тексте\n",
        "\n",
        "Потренируйтесь в нахождении матрицы схожести для валидационного сета\n",
        "\n",
        "загрузите brand_tweets_valid.csv\n",
        "примените объект vectorizer, обученный на датасете brand_tweets.csv (просто скопируйте этот код из урока)\n",
        "примените функцию pairwise_distances к полученной матрице"
      ]
    },
    {
      "cell_type": "code",
      "metadata": {
        "id": "lxRib8P8SSy2",
        "colab": {
          "base_uri": "https://localhost:8080/"
        },
        "outputId": "9b530acd-6b30-4b32-b5e1-d4863a3cb0fc"
      },
      "source": [
        "import pandas as pd\n",
        "from sklearn.feature_extraction.text import CountVectorizer\n",
        "\n",
        "df_valid = pd.read_csv('brand_tweets_valid.csv', sep=',', encoding='utf8')\n",
        "# удаляем строки, в которых отсутствует текст твита\n",
        "df_valid.drop(df_valid[df_valid.tweet_text.isnull()].index, inplace=True)\n",
        "\n",
        "# разбиваем каждый документ на токены\n",
        "vectorizer = CountVectorizer(tokenizer=tokenize_text)\n",
        "# применяем наш объект-токенизатор к датафрейму с твитами\n",
        "document_matrix = vectorizer.fit_transform(df_valid.tweet_text.values)\n",
        "# результат - матрица, в которой находятся числа, строк в мастрице столько, сколько документов\n",
        "# а столбцов столько, сколько токенов\n",
        "document_matrix\n",
        "\n",
        "from sklearn.metrics import pairwise_distances\n",
        "\n",
        "tweet_distance = 1-pairwise_distances(document_matrix, metric=\"cosine\")\n",
        "\n",
        "tweet_distance.shape\n"
      ],
      "execution_count": 56,
      "outputs": [
        {
          "output_type": "execute_result",
          "data": {
            "text/plain": [
              "(402, 402)"
            ]
          },
          "metadata": {
            "tags": []
          },
          "execution_count": 56
        }
      ]
    },
    {
      "cell_type": "markdown",
      "metadata": {
        "id": "rCjjWz6LSSy3"
      },
      "source": [
        "* Пользуясь матрицей схожести, полученной на предыдущем этапе, найдите top-5 твитов, похожих на твит валидационного сета с id=14.\n",
        "\n",
        "У вас есть матрица схожести между объектами. Попробуйте решить задачу поиска дубликатов в тексте\n",
        "\n",
        "1. Визуализируйте гистограмму значений в матрице схожести\n",
        "1. Напишите функцию на Python, которая принимает индекс твита, пороговое значение (число от $0.0$ до $1.0$ и матрицу схожести, а затем выводит все твиты, схожесть которых больше, чем пороговое значение"
      ]
    },
    {
      "cell_type": "markdown",
      "metadata": {
        "id": "l2FlaxIGOGdf"
      },
      "source": [
        ""
      ]
    },
    {
      "cell_type": "markdown",
      "metadata": {
        "id": "OyJAjdjvOKWE"
      },
      "source": [
        "**Top-5 твитов, похожих на твит валидационного сета с id=14**"
      ]
    },
    {
      "cell_type": "code",
      "metadata": {
        "id": "n9de0esISSy3",
        "colab": {
          "base_uri": "https://localhost:8080/"
        },
        "outputId": "e875649b-55a4-4115-f06d-387074def589"
      },
      "source": [
        "source_tweet_index = 14\n",
        "sorted_similarity = np.argsort(-tweet_distance[source_tweet_index,:])\n",
        "\n",
        "for i in range(6):\n",
        "    print(f'Tweet {i}:\\n{df.iloc[sorted_similarity[i]].tweet_text}')\n",
        "    print('\\n\\n')"
      ],
      "execution_count": 59,
      "outputs": [
        {
          "output_type": "stream",
          "text": [
            "Tweet 0:\n",
            "haha, awesomely rad iPad app by @madebymany http://bit.ly/hTdFim #hollergram #sxsw\n",
            "\n",
            "\n",
            "\n",
            "Tweet 1:\n",
            "#Samsung, #Sony follow #Apple, #HP lead @mention {link} #Austin #atx #SXSW\n",
            "\n",
            "\n",
            "\n",
            "Tweet 2:\n",
            "I just noticed DST is coming this weekend. How many iPhone users will be an hour late at SXSW come Sunday morning? #SXSW #iPhone\n",
            "\n",
            "\n",
            "\n",
            "Tweet 3:\n",
            "Following #sxsw Tweets on Google Realtime, four platforms on Tweet Deck and listening to panel, realizing I'm spoken to no one here today.\n",
            "\n",
            "\n",
            "\n",
            "Tweet 4:\n",
            "#SXSW is just starting, #CTIA is around the corner and #googleio is only a hop skip and a jump from there, good time to be an #android fan\n",
            "\n",
            "\n",
            "\n",
            "Tweet 5:\n",
            "Posted up at the DMI House, Intimate Stranger on the stage, they got a restaurant crowd sitting down to deal wif  #sxsw {link}\n",
            "\n",
            "\n",
            "\n"
          ],
          "name": "stdout"
        }
      ]
    },
    {
      "cell_type": "markdown",
      "metadata": {
        "id": "d00g-rn5Ogrv"
      },
      "source": [
        "**Визуализируем гистограмму значений в матрице схожести**"
      ]
    },
    {
      "cell_type": "code",
      "metadata": {
        "id": "vLgXkU8rSSy3",
        "colab": {
          "base_uri": "https://localhost:8080/",
          "height": 265
        },
        "outputId": "fa3be944-16a6-48aa-e52d-480aad806e63"
      },
      "source": [
        "x,y = np.histogram(tweet_distance)\n",
        "plt.hist(y[:-1], y, weights=x)\n",
        "plt.show()"
      ],
      "execution_count": 60,
      "outputs": [
        {
          "output_type": "display_data",
          "data": {
            "image/png": "[encoded data removed]",
            "text/plain": [
              "<Figure size 432x288 with 1 Axes>"
            ]
          },
          "metadata": {
            "tags": [],
            "needs_background": "light"
          }
        }
      ]
    },
    {
      "cell_type": "markdown",
      "metadata": {
        "id": "CZwpw2qsPMGd"
      },
      "source": [
        "**Напишем функцию на Python, которая принимает индекс твита, пороговое значение (число от $0.0$ до $1.0$ и матрицу схожести, а затем выводит все твиты, схожесть которых больше, чем пороговое значение**"
      ]
    },
    {
      "cell_type": "code",
      "metadata": {
        "colab": {
          "base_uri": "https://localhost:8080/"
        },
        "id": "mQVZtx4ROszp",
        "outputId": "59117993-38f5-4df3-e29e-8e794583efc7"
      },
      "source": [
        "def eval_tweets(tweet_id:int, threshold:float, tweet_distance):\n",
        "    ans = []\n",
        "    if (0 <= threshold <= 1):\n",
        "        sorted_eval = np.argsort(-tweet_distance[tweet_id,:])\n",
        "    \n",
        "        for index in sorted_eval:\n",
        "            eval_ = tweet_distance[tweet_id][index]\n",
        "            if eval_ < threshold:\n",
        "                continue\n",
        "            ans.append((index, eval_))\n",
        "        return ans\n",
        "\n",
        "\n",
        "res = eval_tweets(20, 0.5, tweet_distance)\n",
        "\n",
        "for i in res:\n",
        "    print(f'Eval value: {i[1]}\\n{df.iloc[sorted_similarity[i[0]]].tweet_text}\\n\\n')"
      ],
      "execution_count": 61,
      "outputs": [
        {
          "output_type": "stream",
          "text": [
            "Eval value: 1.0\n",
            "Gotta love this #SXSW Google Calendar featuring top parties/ show cases to check out.  RT @hamsandwich via @ischafer =&gt;http://bit.ly/aXZwxB\n",
            "\n",
            "\n",
            "Eval value: 0.9999999999999999\n",
            "Reminder: Charles Chen will be talking about Android and ChromeOS access today @mention 1PM @mention the Google booth in Exhibit Hall 3. #sxsw\n",
            "\n",
            "\n",
            "Eval value: 0.8922178162191937\n",
            "{link} RT @mention &quot;Google before you tweet&quot; is the new &quot;think before you speak.&quot; - Mark Belinsky, #911tweets panel at #SXSW.\n",
            "\n",
            "\n"
          ],
          "name": "stdout"
        }
      ]
    }
  ]
}