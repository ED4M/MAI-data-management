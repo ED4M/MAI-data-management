{
  "nbformat": 4,
  "nbformat_minor": 0,
  "metadata": {
    "kernelspec": {
      "display_name": "Python 3",
      "language": "python",
      "name": "python3"
    },
    "language_info": {
      "codemirror_mode": {
        "name": "ipython",
        "version": 3
      },
      "file_extension": ".py",
      "mimetype": "text/x-python",
      "name": "python",
      "nbconvert_exporter": "python",
      "pygments_lexer": "ipython3",
      "version": "3.6.9"
    },
    "colab": {
      "name": "ML_prod_HW_6.ipynb",
      "provenance": []
    },
    "widgets": {
      "application/vnd.jupyter.widget-state+json": {
        "d0cf968215984995bc5c0009d833bd28": {
          "model_module": "@jupyter-widgets/controls",
          "model_name": "HBoxModel",
          "state": {
            "_view_name": "HBoxView",
            "_dom_classes": [],
            "_model_name": "HBoxModel",
            "_view_module": "@jupyter-widgets/controls",
            "_model_module_version": "1.5.0",
            "_view_count": null,
            "_view_module_version": "1.5.0",
            "box_style": "",
            "layout": "IPY_MODEL_888c46c52e04457b9b442281a0179a24",
            "_model_module": "@jupyter-widgets/controls",
            "children": [
              "IPY_MODEL_8181e0a3b2a84015ab79ec644e3915b7",
              "IPY_MODEL_9da0d50b650f46c385e232e03c1cf592"
            ]
          }
        },
        "888c46c52e04457b9b442281a0179a24": {
          "model_module": "@jupyter-widgets/base",
          "model_name": "LayoutModel",
          "state": {
            "_view_name": "LayoutView",
            "grid_template_rows": null,
            "right": null,
            "justify_content": null,
            "_view_module": "@jupyter-widgets/base",
            "overflow": null,
            "_model_module_version": "1.2.0",
            "_view_count": null,
            "flex_flow": null,
            "width": null,
            "min_width": null,
            "border": null,
            "align_items": null,
            "bottom": null,
            "_model_module": "@jupyter-widgets/base",
            "top": null,
            "grid_column": null,
            "overflow_y": null,
            "overflow_x": null,
            "grid_auto_flow": null,
            "grid_area": null,
            "grid_template_columns": null,
            "flex": null,
            "_model_name": "LayoutModel",
            "justify_items": null,
            "grid_row": null,
            "max_height": null,
            "align_content": null,
            "visibility": null,
            "align_self": null,
            "height": null,
            "min_height": null,
            "padding": null,
            "grid_auto_rows": null,
            "grid_gap": null,
            "max_width": null,
            "order": null,
            "_view_module_version": "1.2.0",
            "grid_template_areas": null,
            "object_position": null,
            "object_fit": null,
            "grid_auto_columns": null,
            "margin": null,
            "display": null,
            "left": null
          }
        },
        "8181e0a3b2a84015ab79ec644e3915b7": {
          "model_module": "@jupyter-widgets/controls",
          "model_name": "FloatProgressModel",
          "state": {
            "_view_name": "ProgressView",
            "style": "IPY_MODEL_150e306d11e24443a60333f6b7840f30",
            "_dom_classes": [],
            "description": "100%",
            "_model_name": "FloatProgressModel",
            "bar_style": "success",
            "max": 1600,
            "_view_module": "@jupyter-widgets/controls",
            "_model_module_version": "1.5.0",
            "value": 1600,
            "_view_count": null,
            "_view_module_version": "1.5.0",
            "orientation": "horizontal",
            "min": 0,
            "description_tooltip": null,
            "_model_module": "@jupyter-widgets/controls",
            "layout": "IPY_MODEL_fa966ea2f99541e887b2eb94d32eb71b"
          }
        },
        "9da0d50b650f46c385e232e03c1cf592": {
          "model_module": "@jupyter-widgets/controls",
          "model_name": "HTMLModel",
          "state": {
            "_view_name": "HTMLView",
            "style": "IPY_MODEL_1972d46e9dd24299850ca22b67a81c61",
            "_dom_classes": [],
            "description": "",
            "_model_name": "HTMLModel",
            "placeholder": "​",
            "_view_module": "@jupyter-widgets/controls",
            "_model_module_version": "1.5.0",
            "value": " 1600/1600 [00:33&lt;00:00, 48.37it/s]",
            "_view_count": null,
            "_view_module_version": "1.5.0",
            "description_tooltip": null,
            "_model_module": "@jupyter-widgets/controls",
            "layout": "IPY_MODEL_966ef8a4c36e4bf1aef0644cca5a3371"
          }
        },
        "150e306d11e24443a60333f6b7840f30": {
          "model_module": "@jupyter-widgets/controls",
          "model_name": "ProgressStyleModel",
          "state": {
            "_view_name": "StyleView",
            "_model_name": "ProgressStyleModel",
            "description_width": "initial",
            "_view_module": "@jupyter-widgets/base",
            "_model_module_version": "1.5.0",
            "_view_count": null,
            "_view_module_version": "1.2.0",
            "bar_color": null,
            "_model_module": "@jupyter-widgets/controls"
          }
        },
        "fa966ea2f99541e887b2eb94d32eb71b": {
          "model_module": "@jupyter-widgets/base",
          "model_name": "LayoutModel",
          "state": {
            "_view_name": "LayoutView",
            "grid_template_rows": null,
            "right": null,
            "justify_content": null,
            "_view_module": "@jupyter-widgets/base",
            "overflow": null,
            "_model_module_version": "1.2.0",
            "_view_count": null,
            "flex_flow": null,
            "width": null,
            "min_width": null,
            "border": null,
            "align_items": null,
            "bottom": null,
            "_model_module": "@jupyter-widgets/base",
            "top": null,
            "grid_column": null,
            "overflow_y": null,
            "overflow_x": null,
            "grid_auto_flow": null,
            "grid_area": null,
            "grid_template_columns": null,
            "flex": null,
            "_model_name": "LayoutModel",
            "justify_items": null,
            "grid_row": null,
            "max_height": null,
            "align_content": null,
            "visibility": null,
            "align_self": null,
            "height": null,
            "min_height": null,
            "padding": null,
            "grid_auto_rows": null,
            "grid_gap": null,
            "max_width": null,
            "order": null,
            "_view_module_version": "1.2.0",
            "grid_template_areas": null,
            "object_position": null,
            "object_fit": null,
            "grid_auto_columns": null,
            "margin": null,
            "display": null,
            "left": null
          }
        },
        "1972d46e9dd24299850ca22b67a81c61": {
          "model_module": "@jupyter-widgets/controls",
          "model_name": "DescriptionStyleModel",
          "state": {
            "_view_name": "StyleView",
            "_model_name": "DescriptionStyleModel",
            "description_width": "",
            "_view_module": "@jupyter-widgets/base",
            "_model_module_version": "1.5.0",
            "_view_count": null,
            "_view_module_version": "1.2.0",
            "_model_module": "@jupyter-widgets/controls"
          }
        },
        "966ef8a4c36e4bf1aef0644cca5a3371": {
          "model_module": "@jupyter-widgets/base",
          "model_name": "LayoutModel",
          "state": {
            "_view_name": "LayoutView",
            "grid_template_rows": null,
            "right": null,
            "justify_content": null,
            "_view_module": "@jupyter-widgets/base",
            "overflow": null,
            "_model_module_version": "1.2.0",
            "_view_count": null,
            "flex_flow": null,
            "width": null,
            "min_width": null,
            "border": null,
            "align_items": null,
            "bottom": null,
            "_model_module": "@jupyter-widgets/base",
            "top": null,
            "grid_column": null,
            "overflow_y": null,
            "overflow_x": null,
            "grid_auto_flow": null,
            "grid_area": null,
            "grid_template_columns": null,
            "flex": null,
            "_model_name": "LayoutModel",
            "justify_items": null,
            "grid_row": null,
            "max_height": null,
            "align_content": null,
            "visibility": null,
            "align_self": null,
            "height": null,
            "min_height": null,
            "padding": null,
            "grid_auto_rows": null,
            "grid_gap": null,
            "max_width": null,
            "order": null,
            "_view_module_version": "1.2.0",
            "grid_template_areas": null,
            "object_position": null,
            "object_fit": null,
            "grid_auto_columns": null,
            "margin": null,
            "display": null,
            "left": null
          }
        },
        "8cbf8391ece94bd4bbdaa312e139b330": {
          "model_module": "@jupyter-widgets/controls",
          "model_name": "HBoxModel",
          "state": {
            "_view_name": "HBoxView",
            "_dom_classes": [],
            "_model_name": "HBoxModel",
            "_view_module": "@jupyter-widgets/controls",
            "_model_module_version": "1.5.0",
            "_view_count": null,
            "_view_module_version": "1.5.0",
            "box_style": "",
            "layout": "IPY_MODEL_411ba8aaeeff4ea9a521e88ae98449a1",
            "_model_module": "@jupyter-widgets/controls",
            "children": [
              "IPY_MODEL_62c17067420341faa1b5fe136102522c",
              "IPY_MODEL_f0a18325e8bf4084b172fc298490fde3"
            ]
          }
        },
        "411ba8aaeeff4ea9a521e88ae98449a1": {
          "model_module": "@jupyter-widgets/base",
          "model_name": "LayoutModel",
          "state": {
            "_view_name": "LayoutView",
            "grid_template_rows": null,
            "right": null,
            "justify_content": null,
            "_view_module": "@jupyter-widgets/base",
            "overflow": null,
            "_model_module_version": "1.2.0",
            "_view_count": null,
            "flex_flow": null,
            "width": null,
            "min_width": null,
            "border": null,
            "align_items": null,
            "bottom": null,
            "_model_module": "@jupyter-widgets/base",
            "top": null,
            "grid_column": null,
            "overflow_y": null,
            "overflow_x": null,
            "grid_auto_flow": null,
            "grid_area": null,
            "grid_template_columns": null,
            "flex": null,
            "_model_name": "LayoutModel",
            "justify_items": null,
            "grid_row": null,
            "max_height": null,
            "align_content": null,
            "visibility": null,
            "align_self": null,
            "height": null,
            "min_height": null,
            "padding": null,
            "grid_auto_rows": null,
            "grid_gap": null,
            "max_width": null,
            "order": null,
            "_view_module_version": "1.2.0",
            "grid_template_areas": null,
            "object_position": null,
            "object_fit": null,
            "grid_auto_columns": null,
            "margin": null,
            "display": null,
            "left": null
          }
        },
        "62c17067420341faa1b5fe136102522c": {
          "model_module": "@jupyter-widgets/controls",
          "model_name": "FloatProgressModel",
          "state": {
            "_view_name": "ProgressView",
            "style": "IPY_MODEL_5e8ab331abac4b4c870099bd462c2fe3",
            "_dom_classes": [],
            "description": "100%",
            "_model_name": "FloatProgressModel",
            "bar_style": "success",
            "max": 15,
            "_view_module": "@jupyter-widgets/controls",
            "_model_module_version": "1.5.0",
            "value": 15,
            "_view_count": null,
            "_view_module_version": "1.5.0",
            "orientation": "horizontal",
            "min": 0,
            "description_tooltip": null,
            "_model_module": "@jupyter-widgets/controls",
            "layout": "IPY_MODEL_e9d381da6a3a491ea680744caeeb8f88"
          }
        },
        "f0a18325e8bf4084b172fc298490fde3": {
          "model_module": "@jupyter-widgets/controls",
          "model_name": "HTMLModel",
          "state": {
            "_view_name": "HTMLView",
            "style": "IPY_MODEL_8a41dd7c057948c0ada4ced1f7fcd69e",
            "_dom_classes": [],
            "description": "",
            "_model_name": "HTMLModel",
            "placeholder": "​",
            "_view_module": "@jupyter-widgets/controls",
            "_model_module_version": "1.5.0",
            "value": " 15/15 [00:00&lt;00:00, 158.90it/s]",
            "_view_count": null,
            "_view_module_version": "1.5.0",
            "description_tooltip": null,
            "_model_module": "@jupyter-widgets/controls",
            "layout": "IPY_MODEL_6a82f367dd9c491c961051dd250bba5b"
          }
        },
        "5e8ab331abac4b4c870099bd462c2fe3": {
          "model_module": "@jupyter-widgets/controls",
          "model_name": "ProgressStyleModel",
          "state": {
            "_view_name": "StyleView",
            "_model_name": "ProgressStyleModel",
            "description_width": "initial",
            "_view_module": "@jupyter-widgets/base",
            "_model_module_version": "1.5.0",
            "_view_count": null,
            "_view_module_version": "1.2.0",
            "bar_color": null,
            "_model_module": "@jupyter-widgets/controls"
          }
        },
        "e9d381da6a3a491ea680744caeeb8f88": {
          "model_module": "@jupyter-widgets/base",
          "model_name": "LayoutModel",
          "state": {
            "_view_name": "LayoutView",
            "grid_template_rows": null,
            "right": null,
            "justify_content": null,
            "_view_module": "@jupyter-widgets/base",
            "overflow": null,
            "_model_module_version": "1.2.0",
            "_view_count": null,
            "flex_flow": null,
            "width": null,
            "min_width": null,
            "border": null,
            "align_items": null,
            "bottom": null,
            "_model_module": "@jupyter-widgets/base",
            "top": null,
            "grid_column": null,
            "overflow_y": null,
            "overflow_x": null,
            "grid_auto_flow": null,
            "grid_area": null,
            "grid_template_columns": null,
            "flex": null,
            "_model_name": "LayoutModel",
            "justify_items": null,
            "grid_row": null,
            "max_height": null,
            "align_content": null,
            "visibility": null,
            "align_self": null,
            "height": null,
            "min_height": null,
            "padding": null,
            "grid_auto_rows": null,
            "grid_gap": null,
            "max_width": null,
            "order": null,
            "_view_module_version": "1.2.0",
            "grid_template_areas": null,
            "object_position": null,
            "object_fit": null,
            "grid_auto_columns": null,
            "margin": null,
            "display": null,
            "left": null
          }
        },
        "8a41dd7c057948c0ada4ced1f7fcd69e": {
          "model_module": "@jupyter-widgets/controls",
          "model_name": "DescriptionStyleModel",
          "state": {
            "_view_name": "StyleView",
            "_model_name": "DescriptionStyleModel",
            "description_width": "",
            "_view_module": "@jupyter-widgets/base",
            "_model_module_version": "1.5.0",
            "_view_count": null,
            "_view_module_version": "1.2.0",
            "_model_module": "@jupyter-widgets/controls"
          }
        },
        "6a82f367dd9c491c961051dd250bba5b": {
          "model_module": "@jupyter-widgets/base",
          "model_name": "LayoutModel",
          "state": {
            "_view_name": "LayoutView",
            "grid_template_rows": null,
            "right": null,
            "justify_content": null,
            "_view_module": "@jupyter-widgets/base",
            "overflow": null,
            "_model_module_version": "1.2.0",
            "_view_count": null,
            "flex_flow": null,
            "width": null,
            "min_width": null,
            "border": null,
            "align_items": null,
            "bottom": null,
            "_model_module": "@jupyter-widgets/base",
            "top": null,
            "grid_column": null,
            "overflow_y": null,
            "overflow_x": null,
            "grid_auto_flow": null,
            "grid_area": null,
            "grid_template_columns": null,
            "flex": null,
            "_model_name": "LayoutModel",
            "justify_items": null,
            "grid_row": null,
            "max_height": null,
            "align_content": null,
            "visibility": null,
            "align_self": null,
            "height": null,
            "min_height": null,
            "padding": null,
            "grid_auto_rows": null,
            "grid_gap": null,
            "max_width": null,
            "order": null,
            "_view_module_version": "1.2.0",
            "grid_template_areas": null,
            "object_position": null,
            "object_fit": null,
            "grid_auto_columns": null,
            "margin": null,
            "display": null,
            "left": null
          }
        }
      }
    },
    "accelerator": "GPU"
  },
  "cells": [
    {
      "cell_type": "markdown",
      "metadata": {
        "id": "7K65c5KH9-r1"
      },
      "source": [
        "# Домашнее задание : ML как http-сервис\n",
        "\n",
        "## Задача 1: применяем PCA-трансформацию\n",
        "\n",
        "Модифицируйте файл `train.py` - добавьте в пайплайн обучения модели сжатие размерности до `n_components=2` с помощью [PCA](https://scikit-learn.org/stable/modules/generated/sklearn.decomposition.PCA.html) и обучите модель **в докере** на \"сжатых\" данных. Сохраните полученный объект `pca_transformer.pkl`, который умеет выполнять сжатие данных.\n",
        "\n",
        "Решением домашки считается модифицированный файл *train.py*"
      ]
    },
    {
      "cell_type": "code",
      "metadata": {
        "id": "f4-St7xz9-r3",
        "cellView": "code"
      },
      "source": [
        "#@title Текст заголовка по умолчанию\n",
        "# ---- train.py ----\n",
        "import pickle\n",
        "import os\n",
        "import logging\n",
        "from pathlib import Path\n",
        "\n",
        "import numpy as np\n",
        "from sklearn.tree import DecisionTreeClassifier\n",
        "from sklearn.decomposition import PCA\n",
        "\n",
        "# логирование\n",
        "LOG_FORMAT = '%(asctime)s | %(levelname)-8s | %(filename)-25.25s:%(lineno)-4d | %(message)s'\n",
        "logging.basicConfig(level=logging.INFO, format=LOG_FORMAT)\n",
        "\n",
        "\n",
        "# загрузка данных\n",
        "def load_data(from_file: Path):\n",
        "    data_source = np.genfromtxt(from_file.resolve().as_posix(), delimiter=',', skip_header=1)\n",
        "    X = data_source[:, :3]\n",
        "    y = data_source[:, 3]\n",
        "    return X, y\n",
        "\n",
        "\n",
        "# PCA\n",
        "def transform_data(X, path: Path):\n",
        "    pca_transformer = PCA(n_components=2).fit(X)\n",
        "    data_pca = pca_transformer.transform(X)\n",
        "    \n",
        "    with path.open('wb') as f:\n",
        "        pickle.dump(pca_transformer, f)\n",
        "        logging.info(f'Модель сжата с помощью PCA и сохранена в {path.resolve()}' )\n",
        "\n",
        "    return data_pca\n",
        "\n",
        "\n",
        "# обучение модели\n",
        "def train_model(X, y, path: Path):\n",
        "    clf = DecisionTreeClassifier(max_depth=3, random_state=42)\n",
        "    clf.fit(X, y)\n",
        "    \n",
        "    # сохраняем модель внутри контейнера в директории /www/classifier\n",
        "    with open('clf.pkl', 'wb') as f:\n",
        "        pickle.dump(clf, f)\n",
        "        logging.info('Модель обучена и сохранена в %s' % Path().absolute())\n",
        "        \n",
        "def pipeline():\n",
        "    X, y = load_data(Path('data/client_segmentation.csv'))\n",
        "    X = transform_data(X, path=Path('./data/pca_transformer.pkl'))\n",
        "\n",
        "    train_model(X, y, path=Path('./data/clf.pkl'))\n",
        "\n",
        "pipeline()"
      ],
      "execution_count": null,
      "outputs": []
    },
    {
      "cell_type": "markdown",
      "metadata": {
        "id": "RVGpWz7W9-r4"
      },
      "source": [
        "## Задача 2: трансформация входных фичей на лету\n",
        "\n",
        "Модифицируйте файл `service.py`: добавьте загрузку объекта для трансформации `pca_tansformer.pkl` и применяйте её **в докере** для трансформации набора входных фич в сжатые (см. метод `.transform()`):\n",
        "<pre>\n",
        "[x1, x2, x3] -> [x1_pca, x2_pca]\n",
        "</pre>\n",
        "\n",
        "Соответственно, predict надо выполнять на *сжатых* фичах\n",
        "\n",
        "\n",
        "Решением домашки считается модифицированный файл *service.py*"
      ]
    },
    {
      "cell_type": "code",
      "metadata": {
        "id": "ZtomJXB99-r4"
      },
      "source": [
        "import json\n",
        "import http.server\n",
        "import logging\n",
        "import os\n",
        "import pickle\n",
        "import socketserver\n",
        "import sys\n",
        "from http import HTTPStatus\n",
        "from re import compile\n",
        "from pathlib import Path\n",
        "\n",
        "import numpy as np\n",
        "from sklearn.tree import DecisionTreeClassifier\n",
        "\n",
        "LOG_FORMAT = '%(asctime)s | %(levelname)-8s | %(filename)-25.25s:%(lineno)-4d | %(message)s'\n",
        "logging.basicConfig(level=logging.INFO, format=LOG_FORMAT)\n",
        "\n",
        "\n",
        "def parse_params(params) -> dict:\n",
        "    \"\"\"\n",
        "        Получаем параметры из GET-запроса\n",
        "    \"\"\"\n",
        "    params_list = params.split('&')\n",
        "    params_dict = {'x1': None, 'x2': None, 'x3': None}\n",
        "    for param in params_list:\n",
        "        key, value = param.split('=')\n",
        "        params_dict[key] = float(value)\n",
        "    return params_dict\n",
        "\n",
        "\n",
        "class Handler(http.server.SimpleHTTPRequestHandler):\n",
        "    \"\"\"Простой http-сервер\"\"\"\n",
        "\n",
        "    def __init__(self, *args, **kwargs):\n",
        "        super().__init__(*args, **kwargs)\n",
        "\n",
        "    def get_response(self) -> dict:\n",
        "        \"\"\"Пример запроса\n",
        "        \n",
        "        http://0.0.0.0:5000/classifier/?x1=1&x2=-2.2&x3=1.05\n",
        "        \"\"\"\n",
        "        response = {'ping': 'ok'}\n",
        "        params_parsed = self.path.split('?')\n",
        "        \n",
        "        if len(params_parsed) == 2 and self.path.startswith('/classifier'):\n",
        "            params = params_parsed[1]\n",
        "            params_dict = parse_params(params)\n",
        "            response = params_dict\n",
        "            \n",
        "            user_features = np.array(\n",
        "                [[params_dict['x1'],\n",
        "                 params_dict['x2'], \n",
        "                 params_dict['x3']]]\n",
        "            )\n",
        "            \n",
        "            #применим pca_transform\n",
        "            reduced_features = transformer.transform(user_features)\n",
        "            \n",
        "            predicted_class = int(classifier_model.predict(reduced_features)[0])\n",
        "            \n",
        "            logging.info('predicted_class %s' % predicted_class)\n",
        "            response.update({'predicted_class': predicted_class})\n",
        "        \n",
        "        elif self.path.startswith('/ping/'):\n",
        "            response = {'message': 'pong'}\n",
        "\n",
        "        return response\n",
        "\n",
        "    def do_GET(self):\n",
        "        # заголовки ответа\n",
        "        self.send_response(HTTPStatus.OK)\n",
        "        self.send_header(\"Content-type\", \"application/json\")\n",
        "        self.end_headers()\n",
        "        self.wfile.write(json.dumps(self.get_response()).encode())\n",
        "\n",
        "\n",
        "logging.info('Загружаем обученную модель')\n",
        "with open('./data/clf.pkl', 'rb') as f:\n",
        "    classifier_model = pickle.load(f)\n",
        "    logging.info('Модель загружена: %s' % classifier_model)\n",
        "\n",
        "with open('./data/pca_transformer.pkl', 'rb') as f:\n",
        "    transformer = pickle.load(f)\n",
        "    logging.info('PCA transformer загружен: %s' % transformer)"
      ],
      "execution_count": null,
      "outputs": []
    },
    {
      "cell_type": "markdown",
      "metadata": {
        "id": "G9OBUlif9-r5"
      },
      "source": [
        "# Домашнее задание: рекомендательная система\n",
        "\n",
        "## Задача 1: строим KNN\n",
        "\n",
        "В реальной жизни KNN-рекомендатель не стоит делать на основе `sklearn.neighbors.NearestNeighbors` - есть готовые реализации, заточенные специально для построения рекомендательных систем. Хорошим примером такой реализации является [пакет implictit](). В рамках домашней работы предлагается разобраться с реализацией KNN-рекомендателя из этой библиотеки "
      ]
    },
    {
      "cell_type": "markdown",
      "metadata": {
        "id": "i0A854vN9-r6"
      },
      "source": [
        "Почитайте документацию по модулю `implicit.nearest_neighbours.CosineRecommender`. Обучите KNN-рекомендатель и воспользуйтесь методом `recommend` для построения рекомендаций\n"
      ]
    },
    {
      "cell_type": "code",
      "metadata": {
        "id": "xZwPLH9qKswl"
      },
      "source": [
        "import pandas as pd\n",
        "import numpy as np\n",
        "import implicit\n",
        "\n",
        "from sklearn.tree import DecisionTreeClassifier\n",
        "from sklearn.decomposition import PCA\n",
        "from sklearn.preprocessing import LabelEncoder\n",
        "from sklearn.model_selection import train_test_split\n",
        "from sklearn.neighbors import NearestNeighbors\n",
        "\n",
        "from scipy.sparse import csr_matrix"
      ],
      "execution_count": 4,
      "outputs": []
    },
    {
      "cell_type": "code",
      "metadata": {
        "id": "r9cPvr3p9-r6",
        "colab": {
          "base_uri": "https://localhost:8080/",
          "height": 153
        },
        "outputId": "ad248c4e-b270-468d-ff40-bc0f190403ca"
      },
      "source": [
        "content_views = pd.read_csv(\n",
        "    'content_views.zip', delimiter=',', header=0, compression='zip',\n",
        "    names = ['user_id', 'content_id', 'view_duration', 'view_ts', 'dt', 'platform'],\n",
        "    dtype = {'user_id': np.uint32, 'content_id': np.uint16, 'view_duration': np.uint16},\n",
        "    parse_dates = [3, 4]\n",
        ")\n",
        "\n",
        "print('Количество просмотров %s' % content_views.user_id.count())\n",
        "\n",
        "content_views.head(3)"
      ],
      "execution_count": 6,
      "outputs": [
        {
          "output_type": "stream",
          "text": [
            "Количество просмотров 489565\n"
          ],
          "name": "stdout"
        },
        {
          "output_type": "execute_result",
          "data": {
            "text/html": [
              "<div>\n",
              "<style scoped>\n",
              "    .dataframe tbody tr th:only-of-type {\n",
              "        vertical-align: middle;\n",
              "    }\n",
              "\n",
              "    .dataframe tbody tr th {\n",
              "        vertical-align: top;\n",
              "    }\n",
              "\n",
              "    .dataframe thead th {\n",
              "        text-align: right;\n",
              "    }\n",
              "</style>\n",
              "<table border=\"1\" class=\"dataframe\">\n",
              "  <thead>\n",
              "    <tr style=\"text-align: right;\">\n",
              "      <th></th>\n",
              "      <th>user_id</th>\n",
              "      <th>content_id</th>\n",
              "      <th>view_duration</th>\n",
              "      <th>view_ts</th>\n",
              "      <th>dt</th>\n",
              "      <th>platform</th>\n",
              "    </tr>\n",
              "  </thead>\n",
              "  <tbody>\n",
              "    <tr>\n",
              "      <th>0</th>\n",
              "      <td>4649</td>\n",
              "      <td>52867</td>\n",
              "      <td>735</td>\n",
              "      <td>2019-03-18 20:40:57+03:00</td>\n",
              "      <td>2019-03-18</td>\n",
              "      <td>LG</td>\n",
              "    </tr>\n",
              "    <tr>\n",
              "      <th>1</th>\n",
              "      <td>16</td>\n",
              "      <td>48800</td>\n",
              "      <td>361</td>\n",
              "      <td>2019-03-18 11:48:27+03:00</td>\n",
              "      <td>2019-03-18</td>\n",
              "      <td>LG</td>\n",
              "    </tr>\n",
              "    <tr>\n",
              "      <th>2</th>\n",
              "      <td>5380</td>\n",
              "      <td>47146</td>\n",
              "      <td>268</td>\n",
              "      <td>2019-02-17 13:06:33+03:00</td>\n",
              "      <td>2019-02-17</td>\n",
              "      <td>LG</td>\n",
              "    </tr>\n",
              "  </tbody>\n",
              "</table>\n",
              "</div>"
            ],
            "text/plain": [
              "   user_id  content_id  ...         dt platform\n",
              "0     4649       52867  ... 2019-03-18       LG\n",
              "1       16       48800  ... 2019-03-18       LG\n",
              "2     5380       47146  ... 2019-02-17       LG\n",
              "\n",
              "[3 rows x 6 columns]"
            ]
          },
          "metadata": {
            "tags": []
          },
          "execution_count": 6
        }
      ]
    },
    {
      "cell_type": "code",
      "metadata": {
        "colab": {
          "base_uri": "https://localhost:8080/",
          "height": 153
        },
        "id": "KMibw9xsK-6a",
        "outputId": "8781e688-76e4-4a2c-c0d1-245b67a535be"
      },
      "source": [
        "content_description = pd.read_csv(\n",
        "    'content_description.zip', delimiter=',', header=0, compression='zip',\n",
        "    names = ['content_id', 'origin_country', 'release_date', 'kinopoisk_rating', 'compilation_id', 'genre'],\n",
        "    dtype = {'content_id': np.uint16},\n",
        "    parse_dates = [2]\n",
        ")\n",
        "\n",
        "print('Количество доступного контента %s' % content_description.content_id.count())\n",
        "\n",
        "content_description.head(3)"
      ],
      "execution_count": 7,
      "outputs": [
        {
          "output_type": "stream",
          "text": [
            "Количество доступного контента 126182\n"
          ],
          "name": "stdout"
        },
        {
          "output_type": "execute_result",
          "data": {
            "text/html": [
              "<div>\n",
              "<style scoped>\n",
              "    .dataframe tbody tr th:only-of-type {\n",
              "        vertical-align: middle;\n",
              "    }\n",
              "\n",
              "    .dataframe tbody tr th {\n",
              "        vertical-align: top;\n",
              "    }\n",
              "\n",
              "    .dataframe thead th {\n",
              "        text-align: right;\n",
              "    }\n",
              "</style>\n",
              "<table border=\"1\" class=\"dataframe\">\n",
              "  <thead>\n",
              "    <tr style=\"text-align: right;\">\n",
              "      <th></th>\n",
              "      <th>content_id</th>\n",
              "      <th>origin_country</th>\n",
              "      <th>release_date</th>\n",
              "      <th>kinopoisk_rating</th>\n",
              "      <th>compilation_id</th>\n",
              "      <th>genre</th>\n",
              "    </tr>\n",
              "  </thead>\n",
              "  <tbody>\n",
              "    <tr>\n",
              "      <th>0</th>\n",
              "      <td>1974</td>\n",
              "      <td>87.0</td>\n",
              "      <td>2009-12-15</td>\n",
              "      <td>7.27</td>\n",
              "      <td>153</td>\n",
              "      <td>Для детей</td>\n",
              "    </tr>\n",
              "    <tr>\n",
              "      <th>1</th>\n",
              "      <td>2148</td>\n",
              "      <td>87.0</td>\n",
              "      <td>2009-12-21</td>\n",
              "      <td>7.27</td>\n",
              "      <td>153</td>\n",
              "      <td>Для детей</td>\n",
              "    </tr>\n",
              "    <tr>\n",
              "      <th>2</th>\n",
              "      <td>2184</td>\n",
              "      <td>87.0</td>\n",
              "      <td>2009-12-22</td>\n",
              "      <td>7.27</td>\n",
              "      <td>153</td>\n",
              "      <td>Для детей</td>\n",
              "    </tr>\n",
              "  </tbody>\n",
              "</table>\n",
              "</div>"
            ],
            "text/plain": [
              "   content_id  origin_country  ... compilation_id      genre\n",
              "0        1974            87.0  ...            153  Для детей\n",
              "1        2148            87.0  ...            153  Для детей\n",
              "2        2184            87.0  ...            153  Для детей\n",
              "\n",
              "[3 rows x 6 columns]"
            ]
          },
          "metadata": {
            "tags": []
          },
          "execution_count": 7
        }
      ]
    },
    {
      "cell_type": "code",
      "metadata": {
        "colab": {
          "base_uri": "https://localhost:8080/",
          "height": 195
        },
        "id": "WBMds3gzLaL0",
        "outputId": "46df662c-c7a4-4f6c-add7-9445a07872e1"
      },
      "source": [
        "user_encoder = LabelEncoder()\n",
        "user_encoder.fit(content_views.user_id)\n",
        "\n",
        "# переиндексация контента\n",
        "content_views = content_views.assign(\n",
        "    user_index = user_encoder.transform(content_views.user_id)\n",
        ")\n",
        "\n",
        "# кодируем индексы контента\n",
        "item_encoder = LabelEncoder()\n",
        "item_encoder.fit(content_views.content_id)\n",
        "\n",
        "# новая переиндексация\n",
        "content_views = content_views.assign(\n",
        "    item_index = item_encoder.transform(content_views.content_id)\n",
        ")\n",
        "\n",
        "\n",
        "content_views.head()\n"
      ],
      "execution_count": 8,
      "outputs": [
        {
          "output_type": "execute_result",
          "data": {
            "text/html": [
              "<div>\n",
              "<style scoped>\n",
              "    .dataframe tbody tr th:only-of-type {\n",
              "        vertical-align: middle;\n",
              "    }\n",
              "\n",
              "    .dataframe tbody tr th {\n",
              "        vertical-align: top;\n",
              "    }\n",
              "\n",
              "    .dataframe thead th {\n",
              "        text-align: right;\n",
              "    }\n",
              "</style>\n",
              "<table border=\"1\" class=\"dataframe\">\n",
              "  <thead>\n",
              "    <tr style=\"text-align: right;\">\n",
              "      <th></th>\n",
              "      <th>user_id</th>\n",
              "      <th>content_id</th>\n",
              "      <th>view_duration</th>\n",
              "      <th>view_ts</th>\n",
              "      <th>dt</th>\n",
              "      <th>platform</th>\n",
              "      <th>user_index</th>\n",
              "      <th>item_index</th>\n",
              "    </tr>\n",
              "  </thead>\n",
              "  <tbody>\n",
              "    <tr>\n",
              "      <th>0</th>\n",
              "      <td>4649</td>\n",
              "      <td>52867</td>\n",
              "      <td>735</td>\n",
              "      <td>2019-03-18 20:40:57+03:00</td>\n",
              "      <td>2019-03-18</td>\n",
              "      <td>LG</td>\n",
              "      <td>802</td>\n",
              "      <td>22812</td>\n",
              "    </tr>\n",
              "    <tr>\n",
              "      <th>1</th>\n",
              "      <td>16</td>\n",
              "      <td>48800</td>\n",
              "      <td>361</td>\n",
              "      <td>2019-03-18 11:48:27+03:00</td>\n",
              "      <td>2019-03-18</td>\n",
              "      <td>LG</td>\n",
              "      <td>2</td>\n",
              "      <td>20399</td>\n",
              "    </tr>\n",
              "    <tr>\n",
              "      <th>2</th>\n",
              "      <td>5380</td>\n",
              "      <td>47146</td>\n",
              "      <td>268</td>\n",
              "      <td>2019-02-17 13:06:33+03:00</td>\n",
              "      <td>2019-02-17</td>\n",
              "      <td>LG</td>\n",
              "      <td>911</td>\n",
              "      <td>19628</td>\n",
              "    </tr>\n",
              "    <tr>\n",
              "      <th>3</th>\n",
              "      <td>4498</td>\n",
              "      <td>30191</td>\n",
              "      <td>297</td>\n",
              "      <td>2019-03-18 15:27:18+03:00</td>\n",
              "      <td>2019-03-18</td>\n",
              "      <td>LG</td>\n",
              "      <td>773</td>\n",
              "      <td>13517</td>\n",
              "    </tr>\n",
              "    <tr>\n",
              "      <th>4</th>\n",
              "      <td>4886</td>\n",
              "      <td>39349</td>\n",
              "      <td>302</td>\n",
              "      <td>2019-03-18 12:08:16+03:00</td>\n",
              "      <td>2019-03-18</td>\n",
              "      <td>LG</td>\n",
              "      <td>836</td>\n",
              "      <td>16959</td>\n",
              "    </tr>\n",
              "  </tbody>\n",
              "</table>\n",
              "</div>"
            ],
            "text/plain": [
              "   user_id  content_id  view_duration  ... platform user_index item_index\n",
              "0     4649       52867            735  ...       LG        802      22812\n",
              "1       16       48800            361  ...       LG          2      20399\n",
              "2     5380       47146            268  ...       LG        911      19628\n",
              "3     4498       30191            297  ...       LG        773      13517\n",
              "4     4886       39349            302  ...       LG        836      16959\n",
              "\n",
              "[5 rows x 8 columns]"
            ]
          },
          "metadata": {
            "tags": []
          },
          "execution_count": 8
        }
      ]
    },
    {
      "cell_type": "code",
      "metadata": {
        "colab": {
          "base_uri": "https://localhost:8080/"
        },
        "id": "QLlc30UkLlCd",
        "outputId": "51af13f9-2d8b-4f98-b6d1-177c5915790f"
      },
      "source": [
        "num_users = content_views.user_index.max() + 1\n",
        "num_items = content_views.item_index.max() + 1\n",
        "num_interactions = content_views.shape[0]\n",
        "\n",
        "user_item = csr_matrix(\n",
        "    (np.ones(num_interactions),(content_views.user_index.values, content_views.item_index.values)),\n",
        "    shape=(num_users, num_items)\n",
        ")\n",
        "print('sparsity: %.4f' % (num_interactions / (num_users * num_items)))\n",
        "\n",
        "user_item"
      ],
      "execution_count": 9,
      "outputs": [
        {
          "output_type": "stream",
          "text": [
            "sparsity: 0.0091\n"
          ],
          "name": "stdout"
        },
        {
          "output_type": "execute_result",
          "data": {
            "text/plain": [
              "<2000x27012 sparse matrix of type '<class 'numpy.float64'>'\n",
              "\twith 259994 stored elements in Compressed Sparse Row format>"
            ]
          },
          "metadata": {
            "tags": []
          },
          "execution_count": 9
        }
      ]
    },
    {
      "cell_type": "code",
      "metadata": {
        "colab": {
          "base_uri": "https://localhost:8080/"
        },
        "id": "FS7It9FzLnIv",
        "outputId": "4537b7d9-a7ba-4203-b433-8709b584c036"
      },
      "source": [
        "train_ids, test_ids = train_test_split(\n",
        "    np.arange(start=0, stop=user_item.shape[0], step=1, dtype=np.uint32),\n",
        "    test_size=0.2\n",
        ")\n",
        "print(\n",
        "    \"Размер обучающей выборки %d пользователей, размер валидационной выборки %d пользователей\"\n",
        "    % (train_ids.size, test_ids.size)\n",
        ")"
      ],
      "execution_count": 10,
      "outputs": [
        {
          "output_type": "stream",
          "text": [
            "Размер обучающей выборки 1600 пользователей, размер валидационной выборки 400 пользователей\n"
          ],
          "name": "stdout"
        }
      ]
    },
    {
      "cell_type": "code",
      "metadata": {
        "colab": {
          "base_uri": "https://localhost:8080/",
          "height": 133,
          "referenced_widgets": [
            "d0cf968215984995bc5c0009d833bd28",
            "888c46c52e04457b9b442281a0179a24",
            "8181e0a3b2a84015ab79ec644e3915b7",
            "9da0d50b650f46c385e232e03c1cf592",
            "150e306d11e24443a60333f6b7840f30",
            "fa966ea2f99541e887b2eb94d32eb71b",
            "1972d46e9dd24299850ca22b67a81c61",
            "966ef8a4c36e4bf1aef0644cca5a3371"
          ]
        },
        "id": "CxzFF62_LpnZ",
        "outputId": "b8503a39-fb9f-42a1-c4e2-56c871cd804e"
      },
      "source": [
        "from implicit.nearest_neighbours import CosineRecommender\n",
        "from implicit.als import AlternatingLeastSquares\n",
        "\n",
        "random_user_index = 63\n",
        "\n",
        "cosine_recommender = CosineRecommender(K=5, num_threads=0)\n",
        "cosine_recommender.fit(user_item[train_ids,:])\n",
        "\n",
        "cosine_recommender.recommend(random_user_index, user_item[train_ids,:])"
      ],
      "execution_count": 11,
      "outputs": [
        {
          "output_type": "display_data",
          "data": {
            "application/vnd.jupyter.widget-view+json": {
              "model_id": "d0cf968215984995bc5c0009d833bd28",
              "version_minor": 0,
              "version_major": 2
            },
            "text/plain": [
              "HBox(children=(FloatProgress(value=0.0, max=1600.0), HTML(value='')))"
            ]
          },
          "metadata": {
            "tags": []
          }
        },
        {
          "output_type": "stream",
          "text": [
            "\n"
          ],
          "name": "stdout"
        },
        {
          "output_type": "execute_result",
          "data": {
            "text/plain": [
              "[(1423, 1.0),\n",
              " (28, 0.9999999999999998),\n",
              " (1472, 0.7071067811865475),\n",
              " (151, 0.02011294966772824)]"
            ]
          },
          "metadata": {
            "tags": []
          },
          "execution_count": 11
        }
      ]
    },
    {
      "cell_type": "markdown",
      "metadata": {
        "id": "viMczARQ9-r6"
      },
      "source": [
        "## Задача 2: Item to Item\n",
        "\n",
        "Решите задачу c2c рекомендаций - вызовите метод `similar_items` для  *item_id=1*"
      ]
    },
    {
      "cell_type": "code",
      "metadata": {
        "id": "DjXwQp3s9-r6",
        "colab": {
          "base_uri": "https://localhost:8080/"
        },
        "outputId": "7fa4be5b-9338-4a01-8af3-389d78d06fc9"
      },
      "source": [
        "cosine_recommender.similar_items(1)"
      ],
      "execution_count": 12,
      "outputs": [
        {
          "output_type": "execute_result",
          "data": {
            "text/plain": [
              "[(1, 1.0000000000000002),\n",
              " (745, 0.816496580927726),\n",
              " (1169, 0.07742096611387639),\n",
              " (218, 0.051502620262460476),\n",
              " (78, 0.04125904453875132)]"
            ]
          },
          "metadata": {
            "tags": []
          },
          "execution_count": 12
        }
      ]
    },
    {
      "cell_type": "markdown",
      "metadata": {
        "id": "awkCzvn29-r7"
      },
      "source": [
        "## Задача 3: обучаем Implicit\n",
        "\n",
        "Почитайте документацию по модулю implicit.als.AlternatingLeastSquares. Обучите ALS-рекомендатель и воспользуйтесь методом recommend для построения рекомендаций"
      ]
    },
    {
      "cell_type": "code",
      "metadata": {
        "id": "_FPfKYdw9-r7",
        "colab": {
          "base_uri": "https://localhost:8080/",
          "height": 267,
          "referenced_widgets": [
            "8cbf8391ece94bd4bbdaa312e139b330",
            "411ba8aaeeff4ea9a521e88ae98449a1",
            "62c17067420341faa1b5fe136102522c",
            "f0a18325e8bf4084b172fc298490fde3",
            "5e8ab331abac4b4c870099bd462c2fe3",
            "e9d381da6a3a491ea680744caeeb8f88",
            "8a41dd7c057948c0ada4ced1f7fcd69e",
            "6a82f367dd9c491c961051dd250bba5b"
          ]
        },
        "outputId": "4920a377-fdf2-4cbc-9b1b-545c9178a3f4"
      },
      "source": [
        "from implicit.als import AlternatingLeastSquares\n",
        "\n",
        "als_recommender = AlternatingLeastSquares()\n",
        "als_recommender.fit(user_item[train_ids,:])\n",
        "\n",
        "als_recommender.recommend(random_user_index, user_item[train_ids,:])"
      ],
      "execution_count": 13,
      "outputs": [
        {
          "output_type": "stream",
          "text": [
            "GPU training requires factor size to be a multiple of 32. Increasing factors from 100 to 128.\n",
            "WARNING:root:OpenBLAS detected. Its highly recommend to set the environment variable 'export OPENBLAS_NUM_THREADS=1' to disable its internal multithreading\n"
          ],
          "name": "stderr"
        },
        {
          "output_type": "display_data",
          "data": {
            "application/vnd.jupyter.widget-view+json": {
              "model_id": "8cbf8391ece94bd4bbdaa312e139b330",
              "version_minor": 0,
              "version_major": 2
            },
            "text/plain": [
              "HBox(children=(FloatProgress(value=0.0, max=15.0), HTML(value='')))"
            ]
          },
          "metadata": {
            "tags": []
          }
        },
        {
          "output_type": "stream",
          "text": [
            "\n"
          ],
          "name": "stdout"
        },
        {
          "output_type": "execute_result",
          "data": {
            "text/plain": [
              "[(814, 0.0038012224),\n",
              " (493, 0.0036843405),\n",
              " (1550, 0.003668075),\n",
              " (177, 0.0036490269),\n",
              " (631, 0.003647986),\n",
              " (279, 0.003632795),\n",
              " (863, 0.003628347),\n",
              " (887, 0.0036266975),\n",
              " (151, 0.0035908245),\n",
              " (776, 0.0035820673)]"
            ]
          },
          "metadata": {
            "tags": []
          },
          "execution_count": 13
        }
      ]
    },
    {
      "cell_type": "markdown",
      "metadata": {
        "id": "CxNyi-zc9-r7"
      },
      "source": [
        "## Задача 4: реализация метрик\n",
        "\n",
        "Даны два вектора - истинная история пользователя и объекты, которые считает релеватными ваша модель\n",
        "\n",
        "Вычислите\n",
        "\n",
        "* precision\n",
        "* recall\n",
        "* precision@5\n"
      ]
    },
    {
      "cell_type": "code",
      "metadata": {
        "id": "RmcrZMQf9-r8",
        "colab": {
          "base_uri": "https://localhost:8080/"
        },
        "outputId": "31ea606b-d225-45dc-c2a1-8c6e07a420b2"
      },
      "source": [
        "import numpy as np\n",
        "\n",
        "user_interactions = [47315, 30004, 36322,  8942, 30820,  6086,  9126,   332, 16289,\n",
        "       39106, 39335, 48506, 48654,  9234, 29935,  2678, 36202, 22636, 18007, 39328, 15414, 30016, 35601,\n",
        "    58409, 21313,   386, 16303, 4397, 19644, 51887, 21659, 36325, 53030,  7764, 50266, 58734, 53419, 24121,\n",
        "    50806, 36092,  8868, 28037, 36131, 13561, 16298, 27508, 41722, 30189, 46490,  2676, 43328, 781, 48397,\n",
        "    41369, 39324, 36381, 39635, 27710, 47837, 28525, 12024, 56604, 41664, 37387, 48507, 413, 33526, 20059,\n",
        "    49781, 56648, 16283, 50805, 34254, 39325, 59374, 22620,  8865, 27512, 13875, 30011,  7621,\n",
        "    10544, 28076, 29716, 30054, 20490, 29466, 16852, 39363, 34250, 7024, 33541,   263, 21267, 25690, 23020,\n",
        "    41368, 53414,  2681, 30201] \n",
        "\n",
        "user_recs = [\n",
        "    50820, 27781, 36131, 50812, 36092, 12024, 59155, 30042, 15414, 19882, 21659, 27849, 39328, 34240, 2681,\n",
        "    21267, 50126, 58560, 7764, 49781\n",
        "]\n",
        "\n",
        "def ap_(n, crossing_set, user_intercations):\n",
        "    result = 0\n",
        "    for x in np.nditer(crossing_set):\n",
        "        result += 1/(user_interactions.index(x)+1)\n",
        "    return result/n\n",
        "\n",
        "doc = np.intersect1d(user_recs, user_interactions)\n",
        "\n",
        "precision = len(doc)/len(user_recs)\n",
        "recall = len(doc)/len(user_interactions)\n",
        "avrpr_5 = ap_(5, doc, user_interactions)\n",
        "\n",
        "print(f'Precision: {precision}\\nRecall: {recall}\\nPrecision@5: {avrpr_5}')"
      ],
      "execution_count": 14,
      "outputs": [
        {
          "output_type": "stream",
          "text": [
            "Precision: 0.5\n",
            "Recall: 0.1\n",
            "Precision@5: 0.05183403900280743\n"
          ],
          "name": "stdout"
        }
      ]
    }
  ]
}