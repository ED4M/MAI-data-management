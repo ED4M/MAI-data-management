{
  "nbformat": 4,
  "nbformat_minor": 0,
  "metadata": {
    "kernelspec": {
      "display_name": "Python 3",
      "language": "python",
      "name": "python3"
    },
    "language_info": {
      "codemirror_mode": {
        "name": "ipython",
        "version": 3
      },
      "file_extension": ".py",
      "mimetype": "text/x-python",
      "name": "python",
      "nbconvert_exporter": "python",
      "pygments_lexer": "ipython3",
      "version": "3.6.9"
    },
    "colab": {
      "name": "ML_Intro_HW-2.ipynb",
      "provenance": []
    }
  },
  "cells": [
    {
      "cell_type": "markdown",
      "metadata": {
        "id": "7Nnc0ejN7YRW"
      },
      "source": [
        "## Введение в машинное обучение: линейная регрессия\n",
        "\n",
        "### Работу выполнил Токарев С.К. \n",
        "##### Студент группы Т12О-101М-20"
      ]
    },
    {
      "cell_type": "markdown",
      "metadata": {
        "id": "SymNYjjq7YRe"
      },
      "source": [
        "Загрузка исходных данных"
      ]
    },
    {
      "cell_type": "code",
      "metadata": {
        "id": "ExKPMQne7YRe",
        "colab": {
          "base_uri": "https://localhost:8080/"
        },
        "outputId": "4ea8156b-ee6d-4bbe-db80-ac696da78838"
      },
      "source": [
        "from sklearn.datasets import load_boston\n",
        "\n",
        "boston_dataset = load_boston()\n",
        "\n",
        "features = boston_dataset.data\n",
        "y = boston_dataset.target\n",
        "print('Фичи')\n",
        "print(features)\n",
        "print('\\nЦелевая переменная y')\n",
        "print(y[:10])\n",
        "\n",
        "\n",
        "# текстовое описание датасета\n",
        "#print('\\n',boston_dataset.DESCR)"
      ],
      "execution_count": 2,
      "outputs": [
        {
          "output_type": "stream",
          "text": [
            "Фичи\n",
            "[[6.3200e-03 1.8000e+01 2.3100e+00 ... 1.5300e+01 3.9690e+02 4.9800e+00]\n",
            " [2.7310e-02 0.0000e+00 7.0700e+00 ... 1.7800e+01 3.9690e+02 9.1400e+00]\n",
            " [2.7290e-02 0.0000e+00 7.0700e+00 ... 1.7800e+01 3.9283e+02 4.0300e+00]\n",
            " ...\n",
            " [6.0760e-02 0.0000e+00 1.1930e+01 ... 2.1000e+01 3.9690e+02 5.6400e+00]\n",
            " [1.0959e-01 0.0000e+00 1.1930e+01 ... 2.1000e+01 3.9345e+02 6.4800e+00]\n",
            " [4.7410e-02 0.0000e+00 1.1930e+01 ... 2.1000e+01 3.9690e+02 7.8800e+00]]\n",
            "\n",
            "Целевая переменная y\n",
            "[24.  21.6 34.7 33.4 36.2 28.7 22.9 27.1 16.5 18.9]\n"
          ],
          "name": "stdout"
        }
      ]
    },
    {
      "cell_type": "markdown",
      "metadata": {
        "id": "YWcN10lr7YRg"
      },
      "source": [
        "## Задание 1\n",
        "\n",
        "Реализуйте формулу матричного умножения для вычисления коэффициентов линейной регрессии на языке python \n",
        "\n",
        "Нужно написать код для аналитического вычисления коэффициентов линейной регрессии по формуле $\\overline{w} = \\left(X^TX\\right)^{-1}X^T\\overline{y}$\n",
        "\n",
        "\n",
        "Сравните по евклидовому расстоянию коэффициенты из класса `LinearRegression` и полученные аналитическим способом"
      ]
    },
    {
      "cell_type": "code",
      "metadata": {
        "id": "WmTE5h0g7YRg",
        "colab": {
          "base_uri": "https://localhost:8080/"
        },
        "outputId": "71632527-52b0-49fa-9141-aea698430a53"
      },
      "source": [
        "from numpy.linalg import inv, norm\n",
        "import numpy as np\n",
        "from sklearn.linear_model import LinearRegression\n",
        "from scipy.spatial import distance\n",
        "\n",
        "# вычисляем к-ты линейной регрессии\n",
        "w_analytic = np.zeros(features.shape[1])\n",
        "#-------- ВАШ КОД ТУТ -------------------\n",
        "\n",
        "features = boston_dataset.data\n",
        "\n",
        "o = np.ones(features.shape[0])\n",
        "mod_features = np.c_[o,features]\n",
        "\n",
        "y = boston_dataset.target # таргет (целевая переменная)\n",
        "x = mod_features\n",
        "\n",
        "w_analytic = inv(x.T.dot(x)).dot(x.T).dot(y)\n",
        "\n",
        "#----------------------------------------\n",
        "\n",
        "print(f'Аналитически определённые коэффициенты {w_analytic}')"
      ],
      "execution_count": 3,
      "outputs": [
        {
          "output_type": "stream",
          "text": [
            "Аналитически определённые коэффициенты [ 3.64594884e+01 -1.08011358e-01  4.64204584e-02  2.05586264e-02\n",
            "  2.68673382e+00 -1.77666112e+01  3.80986521e+00  6.92224640e-04\n",
            " -1.47556685e+00  3.06049479e-01 -1.23345939e-02 -9.52747232e-01\n",
            "  9.31168327e-03 -5.24758378e-01]\n"
          ],
          "name": "stdout"
        }
      ]
    },
    {
      "cell_type": "markdown",
      "metadata": {
        "id": "2mu6-nhT7YRh"
      },
      "source": [
        "Проверка по евклидовой метрике"
      ]
    },
    {
      "cell_type": "code",
      "metadata": {
        "id": "J7zgN5Vj7YRh",
        "colab": {
          "base_uri": "https://localhost:8080/"
        },
        "outputId": "e274edeb-1915-4014-e489-a19d5de6b544"
      },
      "source": [
        "from numpy.linalg import inv, norm\n",
        "\n",
        "# обучаем модель \"из коробки\"\n",
        "reg = LinearRegression().fit(features, y)\n",
        "w_sklearn = np.append([reg.intercept_], reg.coef_)\n",
        "\n",
        "try:\n",
        "    linalg_norm = norm(w_sklearn - w_analytic)\n",
        "    print(f\"Коэффициенты, вычисленные моделью sklearn {w_sklearn}\")\n",
        "    print(f\"Евклидово расстояние между наборами коэффициентов {linalg_norm}\\n\")\n",
        "except:\n",
        "    print(\"!ВАЖНО!: к матрице фичей X нужно добавить столбец, который состоит из единиц\")\n",
        "    print(\"Это т.н. 'тривиальный' признак $x_0=1$\")"
      ],
      "execution_count": 4,
      "outputs": [
        {
          "output_type": "stream",
          "text": [
            "Коэффициенты, вычисленные моделью sklearn [ 3.64594884e+01 -1.08011358e-01  4.64204584e-02  2.05586264e-02\n",
            "  2.68673382e+00 -1.77666112e+01  3.80986521e+00  6.92224640e-04\n",
            " -1.47556685e+00  3.06049479e-01 -1.23345939e-02 -9.52747232e-01\n",
            "  9.31168327e-03 -5.24758378e-01]\n",
            "Евклидово расстояние между наборами коэффициентов 2.0775443994364255e-11\n",
            "\n"
          ],
          "name": "stdout"
        }
      ]
    },
    {
      "cell_type": "markdown",
      "metadata": {
        "id": "0ecI6v377YRi"
      },
      "source": [
        "Проверка на правильность"
      ]
    },
    {
      "cell_type": "code",
      "metadata": {
        "id": "efXhw4CK7YRi",
        "colab": {
          "base_uri": "https://localhost:8080/"
        },
        "outputId": "bfc7fc55-9c3e-4b85-d345-8dea9e89647c"
      },
      "source": [
        "import unittest\n",
        "\n",
        "\n",
        "class TestNotebook(unittest.TestCase):\n",
        "    def test_task(self):\n",
        "        self.assertAlmostEqual(linalg_norm, 0.000000, places=6)\n",
        "\n",
        "unittest.main(argv=[''], verbosity=2, exit=False)"
      ],
      "execution_count": 5,
      "outputs": [
        {
          "output_type": "stream",
          "text": [
            "test_task (__main__.TestNotebook) ... ok\n",
            "\n",
            "----------------------------------------------------------------------\n",
            "Ran 1 test in 0.003s\n",
            "\n",
            "OK\n"
          ],
          "name": "stderr"
        },
        {
          "output_type": "execute_result",
          "data": {
            "text/plain": [
              "<unittest.main.TestProgram at 0x7f21095bab90>"
            ]
          },
          "metadata": {
            "tags": []
          },
          "execution_count": 5
        }
      ]
    },
    {
      "cell_type": "markdown",
      "metadata": {
        "id": "dkGKuW1i7YRj"
      },
      "source": [
        "## Задание 2\n",
        "\n",
        "Визуализируйте в виде \"столбиков\" коэффициенты \"из коробки\" (т.е. из sklearn) и полученные аналитически на одном графике. Для наглядности используйте различную \"прозрачность\" столбиков"
      ]
    },
    {
      "cell_type": "code",
      "metadata": {
        "id": "yMo4sdxz7YRj",
        "colab": {
          "base_uri": "https://localhost:8080/",
          "height": 312
        },
        "outputId": "e0a2f9f2-303e-48e6-e721-d8e14b3c18fa"
      },
      "source": [
        "from matplotlib import pyplot as plt\n",
        "%matplotlib inline\n",
        "\n",
        "#-------- ВАШ КОД ТУТ -------------------\n",
        "\n",
        "fig, subplot = plt.subplots()\n",
        "\n",
        "subplot.hist([w_sklearn, w_analytic], bins=8, label=['sklearn', 'Analytics'])\n",
        "\n",
        "fig.legend()\n",
        "\n",
        "#----------------------------------------"
      ],
      "execution_count": 15,
      "outputs": [
        {
          "output_type": "execute_result",
          "data": {
            "text/plain": [
              "<matplotlib.legend.Legend at 0x7f20fe92f890>"
            ]
          },
          "metadata": {
            "tags": []
          },
          "execution_count": 15
        },
        {
          "output_type": "display_data",
          "data": {
            "image/png": "[encoded data removed]",
            "text/plain": [
              "<Figure size 432x288 with 1 Axes>"
            ]
          },
          "metadata": {
            "tags": [],
            "needs_background": "light"
          }
        }
      ]
    },
    {
      "cell_type": "markdown",
      "metadata": {
        "id": "3t7kYCFZ7YRj"
      },
      "source": [
        "## Задание 3\n",
        "\n",
        "Постройте предсказания двумя моделями\n",
        "\n",
        "* вашей моделью\n",
        "* моделью из библиотеки sklearn\n",
        "\n",
        "Посчитайте, какую ошибку $(\\hat{y}-y)$ даёт модели на каждом обучающем примере каждая из моделей и постройте две гистограммы на одном графике c наложением (одна должна \"просвечивать\" через другую)\n",
        "\n",
        "Если вы всё сделали правильно, гистограммы ошибок должны совпасть"
      ]
    },
    {
      "cell_type": "code",
      "metadata": {
        "id": "huFTFy9J7YRk"
      },
      "source": [
        "y_analytic = x.dot(w_analytic) # наша модель\n",
        "\n",
        "y_sklearn = reg.predict(features) # модель из sklearn\n",
        "\n",
        "y_real = y"
      ],
      "execution_count": 17,
      "outputs": []
    },
    {
      "cell_type": "code",
      "metadata": {
        "id": "PsBM8EGg7YRk",
        "colab": {
          "base_uri": "https://localhost:8080/",
          "height": 326
        },
        "outputId": "b8ffe83c-9c6b-4da2-d5a7-3f52e5ef893c"
      },
      "source": [
        "fig, subplot = plt.subplots()\n",
        "\n",
        "subplot.hist([y_analytic - y_real, y_sklearn - y_real], label=['Analytics', 'sklearn'])\n",
        "\n",
        "subplot.set_title('Гистограммы ошибок')\n",
        "subplot.set_xlabel('Величина ошибки')\n",
        "subplot.set_ylabel('Количество ошибок')\n",
        "fig.legend()"
      ],
      "execution_count": 21,
      "outputs": [
        {
          "output_type": "execute_result",
          "data": {
            "text/plain": [
              "<matplotlib.legend.Legend at 0x7f20fe5b1cd0>"
            ]
          },
          "metadata": {
            "tags": []
          },
          "execution_count": 21
        },
        {
          "output_type": "display_data",
          "data": {
            "image/png": "[encoded data removed]",
            "text/plain": [
              "<Figure size 432x288 with 1 Axes>"
            ]
          },
          "metadata": {
            "tags": [],
            "needs_background": "light"
          }
        }
      ]
    }
  ]
}